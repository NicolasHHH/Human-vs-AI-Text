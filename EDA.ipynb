{
 "cells": [
  {
   "cell_type": "code",
   "execution_count": 26,
   "metadata": {
    "collapsed": true
   },
   "outputs": [],
   "source": [
    "import pandas as pd\n",
    "from sklearn.feature_extraction.text import TfidfVectorizer\n",
    "from sklearn.linear_model import LogisticRegression\n",
    "from sklearn.svm import SVC\n",
    "\n",
    "\n",
    "# Read The data\n",
    "training_set = pd.read_json('./data/train_set.json')\n",
    "test_set = pd.read_json('./data/test_set.json')\n",
    "\n",
    "# Use logistic regression to predict the class\n",
    "\n",
    "# 1. word2vec\n",
    "vectorizer = TfidfVectorizer(max_features=10000)\n",
    "X = vectorizer.fit_transform(training_set['text'])"
   ]
  },
  {
   "cell_type": "code",
   "execution_count": 27,
   "outputs": [
    {
     "data": {
      "text/plain": "((4000, 3), Index(['id', 'text', 'label'], dtype='object'))"
     },
     "execution_count": 27,
     "metadata": {},
     "output_type": "execute_result"
    }
   ],
   "source": [
    "training_set.shape, training_set.columns"
   ],
   "metadata": {
    "collapsed": false
   }
  },
  {
   "cell_type": "code",
   "execution_count": 32,
   "outputs": [],
   "source": [
    "training_set[\"length\"] = training_set[\"text\"].apply(len)\n",
    "training_set[\"words\"] = training_set[\"text\"].apply(lambda x: len(x.split(\" \")))\n",
    "training_set[\"capital\"] = training_set[\"text\"].apply(lambda x: 1 if x[0].capitalize() == x[0] else 0)"
   ],
   "metadata": {
    "collapsed": false
   }
  },
  {
   "cell_type": "code",
   "execution_count": 33,
   "outputs": [
    {
     "data": {
      "text/plain": "   id                                               text  label  length  \\\n0   0  Remains dating to the 5th century were found i...      1     426   \n1   1  Professional Identification is a type of socia...      1    1429   \n2   2  A magistrate has refused a media ban on the tr...      1     360   \n3   3  The Conservation Commons is the expression of ...      1    1403   \n4   4  Myer is holding a 75 per cent of designer labe...      0     325   \n\n   words  capital  \n0     82        1  \n1    192        1  \n2     67        1  \n3    201        1  \n4     57        1  ",
      "text/html": "<div>\n<style scoped>\n    .dataframe tbody tr th:only-of-type {\n        vertical-align: middle;\n    }\n\n    .dataframe tbody tr th {\n        vertical-align: top;\n    }\n\n    .dataframe thead th {\n        text-align: right;\n    }\n</style>\n<table border=\"1\" class=\"dataframe\">\n  <thead>\n    <tr style=\"text-align: right;\">\n      <th></th>\n      <th>id</th>\n      <th>text</th>\n      <th>label</th>\n      <th>length</th>\n      <th>words</th>\n      <th>capital</th>\n    </tr>\n  </thead>\n  <tbody>\n    <tr>\n      <th>0</th>\n      <td>0</td>\n      <td>Remains dating to the 5th century were found i...</td>\n      <td>1</td>\n      <td>426</td>\n      <td>82</td>\n      <td>1</td>\n    </tr>\n    <tr>\n      <th>1</th>\n      <td>1</td>\n      <td>Professional Identification is a type of socia...</td>\n      <td>1</td>\n      <td>1429</td>\n      <td>192</td>\n      <td>1</td>\n    </tr>\n    <tr>\n      <th>2</th>\n      <td>2</td>\n      <td>A magistrate has refused a media ban on the tr...</td>\n      <td>1</td>\n      <td>360</td>\n      <td>67</td>\n      <td>1</td>\n    </tr>\n    <tr>\n      <th>3</th>\n      <td>3</td>\n      <td>The Conservation Commons is the expression of ...</td>\n      <td>1</td>\n      <td>1403</td>\n      <td>201</td>\n      <td>1</td>\n    </tr>\n    <tr>\n      <th>4</th>\n      <td>4</td>\n      <td>Myer is holding a 75 per cent of designer labe...</td>\n      <td>0</td>\n      <td>325</td>\n      <td>57</td>\n      <td>1</td>\n    </tr>\n  </tbody>\n</table>\n</div>"
     },
     "execution_count": 33,
     "metadata": {},
     "output_type": "execute_result"
    }
   ],
   "source": [
    "training_set.head(5)"
   ],
   "metadata": {
    "collapsed": false
   }
  },
  {
   "cell_type": "code",
   "execution_count": 34,
   "outputs": [
    {
     "data": {
      "text/plain": "                id   label       length        words      capital\ncount  2016.000000  2016.0  2016.000000  2016.000000  2016.000000\nmean   2002.933532     1.0   567.970734    97.464782     0.995536\nstd    1160.984084     0.0   399.284814    63.877222     0.066683\nmin       0.000000     1.0    64.000000    14.000000     0.000000\n25%     980.250000     1.0   268.000000    48.000000     1.000000\n50%    2003.500000     1.0   355.000000    66.000000     1.000000\n75%    3023.500000     1.0   957.250000   158.000000     1.000000\nmax    3999.000000     1.0  3524.000000   678.000000     1.000000",
      "text/html": "<div>\n<style scoped>\n    .dataframe tbody tr th:only-of-type {\n        vertical-align: middle;\n    }\n\n    .dataframe tbody tr th {\n        vertical-align: top;\n    }\n\n    .dataframe thead th {\n        text-align: right;\n    }\n</style>\n<table border=\"1\" class=\"dataframe\">\n  <thead>\n    <tr style=\"text-align: right;\">\n      <th></th>\n      <th>id</th>\n      <th>label</th>\n      <th>length</th>\n      <th>words</th>\n      <th>capital</th>\n    </tr>\n  </thead>\n  <tbody>\n    <tr>\n      <th>count</th>\n      <td>2016.000000</td>\n      <td>2016.0</td>\n      <td>2016.000000</td>\n      <td>2016.000000</td>\n      <td>2016.000000</td>\n    </tr>\n    <tr>\n      <th>mean</th>\n      <td>2002.933532</td>\n      <td>1.0</td>\n      <td>567.970734</td>\n      <td>97.464782</td>\n      <td>0.995536</td>\n    </tr>\n    <tr>\n      <th>std</th>\n      <td>1160.984084</td>\n      <td>0.0</td>\n      <td>399.284814</td>\n      <td>63.877222</td>\n      <td>0.066683</td>\n    </tr>\n    <tr>\n      <th>min</th>\n      <td>0.000000</td>\n      <td>1.0</td>\n      <td>64.000000</td>\n      <td>14.000000</td>\n      <td>0.000000</td>\n    </tr>\n    <tr>\n      <th>25%</th>\n      <td>980.250000</td>\n      <td>1.0</td>\n      <td>268.000000</td>\n      <td>48.000000</td>\n      <td>1.000000</td>\n    </tr>\n    <tr>\n      <th>50%</th>\n      <td>2003.500000</td>\n      <td>1.0</td>\n      <td>355.000000</td>\n      <td>66.000000</td>\n      <td>1.000000</td>\n    </tr>\n    <tr>\n      <th>75%</th>\n      <td>3023.500000</td>\n      <td>1.0</td>\n      <td>957.250000</td>\n      <td>158.000000</td>\n      <td>1.000000</td>\n    </tr>\n    <tr>\n      <th>max</th>\n      <td>3999.000000</td>\n      <td>1.0</td>\n      <td>3524.000000</td>\n      <td>678.000000</td>\n      <td>1.000000</td>\n    </tr>\n  </tbody>\n</table>\n</div>"
     },
     "execution_count": 34,
     "metadata": {},
     "output_type": "execute_result"
    }
   ],
   "source": [
    "positive = training_set[training_set[\"label\"] == 1]\n",
    "positive.describe()"
   ],
   "metadata": {
    "collapsed": false
   }
  },
  {
   "cell_type": "code",
   "execution_count": 35,
   "outputs": [
    {
     "data": {
      "text/plain": "                id   label       length        words      capital\ncount  1984.000000  1984.0  1984.000000  1984.000000  1984.000000\nmean   1996.011089     0.0   598.970766   102.265121     0.835685\nstd    1148.855191     0.0   438.125692    71.131035     0.370654\nmin       4.000000     0.0    78.000000    14.000000     0.000000\n25%    1024.500000     0.0   276.000000    49.000000     1.000000\n50%    1994.500000     0.0   362.500000    70.000000     1.000000\n75%    2973.500000     0.0  1011.000000   170.000000     1.000000\nmax    3998.000000     0.0  1731.000000   273.000000     1.000000",
      "text/html": "<div>\n<style scoped>\n    .dataframe tbody tr th:only-of-type {\n        vertical-align: middle;\n    }\n\n    .dataframe tbody tr th {\n        vertical-align: top;\n    }\n\n    .dataframe thead th {\n        text-align: right;\n    }\n</style>\n<table border=\"1\" class=\"dataframe\">\n  <thead>\n    <tr style=\"text-align: right;\">\n      <th></th>\n      <th>id</th>\n      <th>label</th>\n      <th>length</th>\n      <th>words</th>\n      <th>capital</th>\n    </tr>\n  </thead>\n  <tbody>\n    <tr>\n      <th>count</th>\n      <td>1984.000000</td>\n      <td>1984.0</td>\n      <td>1984.000000</td>\n      <td>1984.000000</td>\n      <td>1984.000000</td>\n    </tr>\n    <tr>\n      <th>mean</th>\n      <td>1996.011089</td>\n      <td>0.0</td>\n      <td>598.970766</td>\n      <td>102.265121</td>\n      <td>0.835685</td>\n    </tr>\n    <tr>\n      <th>std</th>\n      <td>1148.855191</td>\n      <td>0.0</td>\n      <td>438.125692</td>\n      <td>71.131035</td>\n      <td>0.370654</td>\n    </tr>\n    <tr>\n      <th>min</th>\n      <td>4.000000</td>\n      <td>0.0</td>\n      <td>78.000000</td>\n      <td>14.000000</td>\n      <td>0.000000</td>\n    </tr>\n    <tr>\n      <th>25%</th>\n      <td>1024.500000</td>\n      <td>0.0</td>\n      <td>276.000000</td>\n      <td>49.000000</td>\n      <td>1.000000</td>\n    </tr>\n    <tr>\n      <th>50%</th>\n      <td>1994.500000</td>\n      <td>0.0</td>\n      <td>362.500000</td>\n      <td>70.000000</td>\n      <td>1.000000</td>\n    </tr>\n    <tr>\n      <th>75%</th>\n      <td>2973.500000</td>\n      <td>0.0</td>\n      <td>1011.000000</td>\n      <td>170.000000</td>\n      <td>1.000000</td>\n    </tr>\n    <tr>\n      <th>max</th>\n      <td>3998.000000</td>\n      <td>0.0</td>\n      <td>1731.000000</td>\n      <td>273.000000</td>\n      <td>1.000000</td>\n    </tr>\n  </tbody>\n</table>\n</div>"
     },
     "execution_count": 35,
     "metadata": {},
     "output_type": "execute_result"
    }
   ],
   "source": [
    "negative = training_set[training_set[\"label\"] == 0]\n",
    "negative.describe()"
   ],
   "metadata": {
    "collapsed": false
   }
  },
  {
   "cell_type": "code",
   "execution_count": 38,
   "outputs": [
    {
     "data": {
      "text/plain": "                id  label       length       words  capital\ncount   326.000000  326.0   326.000000  326.000000    326.0\nmean   1987.509202    0.0   298.064417   52.061350      0.0\nstd    1139.654306    0.0   149.262841   24.869182      0.0\nmin       5.000000    0.0    78.000000   14.000000      0.0\n25%     986.750000    0.0   212.250000   37.000000      0.0\n50%    2010.500000    0.0   278.000000   49.000000      0.0\n75%    2972.250000    0.0   353.750000   62.000000      0.0\nmax    3992.000000    0.0  1517.000000  248.000000      0.0",
      "text/html": "<div>\n<style scoped>\n    .dataframe tbody tr th:only-of-type {\n        vertical-align: middle;\n    }\n\n    .dataframe tbody tr th {\n        vertical-align: top;\n    }\n\n    .dataframe thead th {\n        text-align: right;\n    }\n</style>\n<table border=\"1\" class=\"dataframe\">\n  <thead>\n    <tr style=\"text-align: right;\">\n      <th></th>\n      <th>id</th>\n      <th>label</th>\n      <th>length</th>\n      <th>words</th>\n      <th>capital</th>\n    </tr>\n  </thead>\n  <tbody>\n    <tr>\n      <th>count</th>\n      <td>326.000000</td>\n      <td>326.0</td>\n      <td>326.000000</td>\n      <td>326.000000</td>\n      <td>326.0</td>\n    </tr>\n    <tr>\n      <th>mean</th>\n      <td>1987.509202</td>\n      <td>0.0</td>\n      <td>298.064417</td>\n      <td>52.061350</td>\n      <td>0.0</td>\n    </tr>\n    <tr>\n      <th>std</th>\n      <td>1139.654306</td>\n      <td>0.0</td>\n      <td>149.262841</td>\n      <td>24.869182</td>\n      <td>0.0</td>\n    </tr>\n    <tr>\n      <th>min</th>\n      <td>5.000000</td>\n      <td>0.0</td>\n      <td>78.000000</td>\n      <td>14.000000</td>\n      <td>0.0</td>\n    </tr>\n    <tr>\n      <th>25%</th>\n      <td>986.750000</td>\n      <td>0.0</td>\n      <td>212.250000</td>\n      <td>37.000000</td>\n      <td>0.0</td>\n    </tr>\n    <tr>\n      <th>50%</th>\n      <td>2010.500000</td>\n      <td>0.0</td>\n      <td>278.000000</td>\n      <td>49.000000</td>\n      <td>0.0</td>\n    </tr>\n    <tr>\n      <th>75%</th>\n      <td>2972.250000</td>\n      <td>0.0</td>\n      <td>353.750000</td>\n      <td>62.000000</td>\n      <td>0.0</td>\n    </tr>\n    <tr>\n      <th>max</th>\n      <td>3992.000000</td>\n      <td>0.0</td>\n      <td>1517.000000</td>\n      <td>248.000000</td>\n      <td>0.0</td>\n    </tr>\n  </tbody>\n</table>\n</div>"
     },
     "execution_count": 38,
     "metadata": {},
     "output_type": "execute_result"
    }
   ],
   "source": [
    "negative_minuscule = training_set[(training_set[\"label\"] == 0) & (training_set[\"capital\"] == 0)]\n",
    "negative_minuscule.describe()"
   ],
   "metadata": {
    "collapsed": false
   }
  },
  {
   "cell_type": "code",
   "execution_count": 43,
   "outputs": [],
   "source": [
    "import csv\n",
    "test_label_gpt = []\n",
    "with open(\"submission_gpt_66.csv\", \"r\") as pred:\n",
    "    csv_in = csv.reader(pred)\n",
    "    for i, row in enumerate(csv_in):\n",
    "        if i>=1:\n",
    "            test_label_gpt.append(eval(row[1]))\n",
    "\n",
    "\n",
    "test_label_xgboost = []\n",
    "with open(\"submission_xgboost_83.csv\", \"r\") as pred:\n",
    "    csv_in = csv.reader(pred)\n",
    "    for i, row in enumerate(csv_in):\n",
    "        if i>=1:\n",
    "            test_label_xgboost.append(eval(row[1]))"
   ],
   "metadata": {
    "collapsed": false
   }
  },
  {
   "cell_type": "code",
   "execution_count": 81,
   "outputs": [],
   "source": [
    "test_set[\"capital\"] = test_set[\"text\"].apply(lambda x: 1 if x[0].capitalize() == x[0] else 0)\n",
    "test_set[\"gpt\"] = test_label_gpt\n",
    "test_set[\"xgboost\"] = test_label_xgboost\n"
   ],
   "metadata": {
    "collapsed": false
   }
  },
  {
   "cell_type": "code",
   "execution_count": 59,
   "outputs": [
    {
     "data": {
      "text/plain": "                id  capital         gpt     xgboost  label\ncount   334.000000    334.0  334.000000  334.000000  334.0\nmean   2025.035928      0.0    0.976048    0.020958    0.0\nstd    1129.930447      0.0    0.153129    0.143459    0.0\nmin      15.000000      0.0    0.000000    0.000000    0.0\n25%    1008.000000      0.0    1.000000    0.000000    0.0\n50%    2058.000000      0.0    1.000000    0.000000    0.0\n75%    2993.250000      0.0    1.000000    0.000000    0.0\nmax    3984.000000      0.0    1.000000    1.000000    0.0",
      "text/html": "<div>\n<style scoped>\n    .dataframe tbody tr th:only-of-type {\n        vertical-align: middle;\n    }\n\n    .dataframe tbody tr th {\n        vertical-align: top;\n    }\n\n    .dataframe thead th {\n        text-align: right;\n    }\n</style>\n<table border=\"1\" class=\"dataframe\">\n  <thead>\n    <tr style=\"text-align: right;\">\n      <th></th>\n      <th>id</th>\n      <th>capital</th>\n      <th>gpt</th>\n      <th>xgboost</th>\n      <th>label</th>\n    </tr>\n  </thead>\n  <tbody>\n    <tr>\n      <th>count</th>\n      <td>334.000000</td>\n      <td>334.0</td>\n      <td>334.000000</td>\n      <td>334.000000</td>\n      <td>334.0</td>\n    </tr>\n    <tr>\n      <th>mean</th>\n      <td>2025.035928</td>\n      <td>0.0</td>\n      <td>0.976048</td>\n      <td>0.020958</td>\n      <td>0.0</td>\n    </tr>\n    <tr>\n      <th>std</th>\n      <td>1129.930447</td>\n      <td>0.0</td>\n      <td>0.153129</td>\n      <td>0.143459</td>\n      <td>0.0</td>\n    </tr>\n    <tr>\n      <th>min</th>\n      <td>15.000000</td>\n      <td>0.0</td>\n      <td>0.000000</td>\n      <td>0.000000</td>\n      <td>0.0</td>\n    </tr>\n    <tr>\n      <th>25%</th>\n      <td>1008.000000</td>\n      <td>0.0</td>\n      <td>1.000000</td>\n      <td>0.000000</td>\n      <td>0.0</td>\n    </tr>\n    <tr>\n      <th>50%</th>\n      <td>2058.000000</td>\n      <td>0.0</td>\n      <td>1.000000</td>\n      <td>0.000000</td>\n      <td>0.0</td>\n    </tr>\n    <tr>\n      <th>75%</th>\n      <td>2993.250000</td>\n      <td>0.0</td>\n      <td>1.000000</td>\n      <td>0.000000</td>\n      <td>0.0</td>\n    </tr>\n    <tr>\n      <th>max</th>\n      <td>3984.000000</td>\n      <td>0.0</td>\n      <td>1.000000</td>\n      <td>1.000000</td>\n      <td>0.0</td>\n    </tr>\n  </tbody>\n</table>\n</div>"
     },
     "execution_count": 59,
     "metadata": {},
     "output_type": "execute_result"
    }
   ],
   "source": [
    "test_minuscule = test_set[ test_set[\"capital\"] == 0]\n",
    "test_minuscule.describe()"
   ],
   "metadata": {
    "collapsed": false
   }
  },
  {
   "cell_type": "code",
   "execution_count": 62,
   "outputs": [],
   "source": [
    "# Read The data\n",
    "training_set = pd.read_json('./data/train_set.json')\n",
    "test_set = pd.read_json('./data/test_set.json')\n",
    "\n",
    "\n",
    "test_set[\"label\"] = test_set[\"text\"].apply(lambda x: 1 if x[0].capitalize() == x[0] else 0)\n",
    "test_minuscule = test_set[ test_set[\"label\"] == 0]"
   ],
   "metadata": {
    "collapsed": false
   }
  },
  {
   "cell_type": "code",
   "execution_count": 69,
   "outputs": [],
   "source": [
    "new_train = pd.concat((training_set, test_minuscule), axis=0)\n",
    "new_train = new_train.sample(frac=1).reset_index(drop=True)\n",
    "new_train.to_json(\"data/train_set_aug.json\")"
   ],
   "metadata": {
    "collapsed": false
   }
  },
  {
   "cell_type": "code",
   "execution_count": 70,
   "outputs": [
    {
     "data": {
      "text/plain": "4334"
     },
     "execution_count": 70,
     "metadata": {},
     "output_type": "execute_result"
    }
   ],
   "source": [
    "len(new_train)"
   ],
   "metadata": {
    "collapsed": false
   }
  },
  {
   "cell_type": "code",
   "execution_count": 77,
   "outputs": [
    {
     "data": {
      "text/plain": "\"The video shows two men and one woman entering the Los Angeles home . They 're seen tip-toeing through the house before entering another room . But then one suspect returns and looks straight at the camera before he ducks and knocks it down . The LAPD released the film in hopes it will help catch the burglars , described as being age 17 to 20 .\""
     },
     "execution_count": 77,
     "metadata": {},
     "output_type": "execute_result"
    }
   ],
   "source": [
    "training_set = pd.read_json('./data/train_set_aug.json')\n",
    "training_set[\"text\"].to_list()[0]"
   ],
   "metadata": {
    "collapsed": false
   }
  },
  {
   "cell_type": "code",
   "execution_count": null,
   "outputs": [],
   "source": [],
   "metadata": {
    "collapsed": false
   }
  },
  {
   "cell_type": "code",
   "execution_count": 79,
   "outputs": [],
   "source": [
    "test_label_aug = []\n",
    "with open(\"submission_bert_aug.csv\", \"r\") as pred:\n",
    "    csv_in = csv.reader(pred)\n",
    "    for i, row in enumerate(csv_in):\n",
    "        if i>=1:\n",
    "            test_label_aug.append(eval(row[1]))"
   ],
   "metadata": {
    "collapsed": false
   }
  },
  {
   "cell_type": "code",
   "execution_count": 83,
   "outputs": [
    {
     "data": {
      "text/plain": "        id                                               text  label  capital  \\\n0        0  David Cameron revealed he and his wife Samanth...      1        1   \n1        1  David Cameron appeared to forget which footbal...      1        1   \n2        2  Ebola tests for a senior doctor has come back ...      1        1   \n3        3  Celebrity chef's Fat Duck named eighth best re...      1        1   \n4        4  Navinder Singh Sarao , 36 , is accused of maki...      1        1   \n...    ...                                                ...    ...      ...   \n3995  3995  Bob Katter , federal MP for Kennedy , is of Le...      1        1   \n3996  3996  Man came to hospital complaining his thumb hur...      1        1   \n3997  3997  London weighting is an allowance paid to certa...      1        1   \n3998  3998  The Toronto Signals Band (abbreviated to \"Sigs...      1        1   \n3999  3999  David Wihby, 61, arrested on Friday on a misde...      1        1   \n\n      gpt  xgboost  aug  \n0       1        0    0  \n1       1        0    0  \n2       1        1    1  \n3       1        1    1  \n4       1        0    0  \n...   ...      ...  ...  \n3995    1        0    0  \n3996    1        1    1  \n3997    1        1    0  \n3998    0        0    0  \n3999    1        0    0  \n\n[4000 rows x 7 columns]",
      "text/html": "<div>\n<style scoped>\n    .dataframe tbody tr th:only-of-type {\n        vertical-align: middle;\n    }\n\n    .dataframe tbody tr th {\n        vertical-align: top;\n    }\n\n    .dataframe thead th {\n        text-align: right;\n    }\n</style>\n<table border=\"1\" class=\"dataframe\">\n  <thead>\n    <tr style=\"text-align: right;\">\n      <th></th>\n      <th>id</th>\n      <th>text</th>\n      <th>label</th>\n      <th>capital</th>\n      <th>gpt</th>\n      <th>xgboost</th>\n      <th>aug</th>\n    </tr>\n  </thead>\n  <tbody>\n    <tr>\n      <th>0</th>\n      <td>0</td>\n      <td>David Cameron revealed he and his wife Samanth...</td>\n      <td>1</td>\n      <td>1</td>\n      <td>1</td>\n      <td>0</td>\n      <td>0</td>\n    </tr>\n    <tr>\n      <th>1</th>\n      <td>1</td>\n      <td>David Cameron appeared to forget which footbal...</td>\n      <td>1</td>\n      <td>1</td>\n      <td>1</td>\n      <td>0</td>\n      <td>0</td>\n    </tr>\n    <tr>\n      <th>2</th>\n      <td>2</td>\n      <td>Ebola tests for a senior doctor has come back ...</td>\n      <td>1</td>\n      <td>1</td>\n      <td>1</td>\n      <td>1</td>\n      <td>1</td>\n    </tr>\n    <tr>\n      <th>3</th>\n      <td>3</td>\n      <td>Celebrity chef's Fat Duck named eighth best re...</td>\n      <td>1</td>\n      <td>1</td>\n      <td>1</td>\n      <td>1</td>\n      <td>1</td>\n    </tr>\n    <tr>\n      <th>4</th>\n      <td>4</td>\n      <td>Navinder Singh Sarao , 36 , is accused of maki...</td>\n      <td>1</td>\n      <td>1</td>\n      <td>1</td>\n      <td>0</td>\n      <td>0</td>\n    </tr>\n    <tr>\n      <th>...</th>\n      <td>...</td>\n      <td>...</td>\n      <td>...</td>\n      <td>...</td>\n      <td>...</td>\n      <td>...</td>\n      <td>...</td>\n    </tr>\n    <tr>\n      <th>3995</th>\n      <td>3995</td>\n      <td>Bob Katter , federal MP for Kennedy , is of Le...</td>\n      <td>1</td>\n      <td>1</td>\n      <td>1</td>\n      <td>0</td>\n      <td>0</td>\n    </tr>\n    <tr>\n      <th>3996</th>\n      <td>3996</td>\n      <td>Man came to hospital complaining his thumb hur...</td>\n      <td>1</td>\n      <td>1</td>\n      <td>1</td>\n      <td>1</td>\n      <td>1</td>\n    </tr>\n    <tr>\n      <th>3997</th>\n      <td>3997</td>\n      <td>London weighting is an allowance paid to certa...</td>\n      <td>1</td>\n      <td>1</td>\n      <td>1</td>\n      <td>1</td>\n      <td>0</td>\n    </tr>\n    <tr>\n      <th>3998</th>\n      <td>3998</td>\n      <td>The Toronto Signals Band (abbreviated to \"Sigs...</td>\n      <td>1</td>\n      <td>1</td>\n      <td>0</td>\n      <td>0</td>\n      <td>0</td>\n    </tr>\n    <tr>\n      <th>3999</th>\n      <td>3999</td>\n      <td>David Wihby, 61, arrested on Friday on a misde...</td>\n      <td>1</td>\n      <td>1</td>\n      <td>1</td>\n      <td>0</td>\n      <td>0</td>\n    </tr>\n  </tbody>\n</table>\n<p>4000 rows × 7 columns</p>\n</div>"
     },
     "execution_count": 83,
     "metadata": {},
     "output_type": "execute_result"
    }
   ],
   "source": [
    "test_set[\"capital\"] = test_set[\"text\"].apply(lambda x: 1 if x[0].capitalize() == x[0] else 0)\n",
    "test_set[\"aug\"] = test_label_aug\n"
   ],
   "metadata": {
    "collapsed": false
   }
  },
  {
   "cell_type": "code",
   "execution_count": 88,
   "outputs": [
    {
     "data": {
      "text/plain": "(3710, 2608)"
     },
     "execution_count": 88,
     "metadata": {},
     "output_type": "execute_result"
    }
   ],
   "source": [
    "import numpy as np\n",
    "np.sum(test_set[\"aug\"] == test_set[\"xgboost\"]), np.sum(test_set[\"gpt\"] == test_set[\"xgboost\"])"
   ],
   "metadata": {
    "collapsed": false
   }
  },
  {
   "cell_type": "code",
   "execution_count": 95,
   "outputs": [
    {
     "data": {
      "text/plain": "      id                                               text  label  capital  \\\n15    15  nathan brown, 19, was working with his father ...      0        0   \n60    60  mass murderer peter sutcliffe is to be moved t...      0        0   \n116  116  casey levi filmed the moment he tried to get h...      0        0   \n122  122  wayne kyle gave his first interview since the ...      0        0   \n140  140  a newly-released video has highlighted the sho...      0        0   \n\n     gpt  xgboost  aug  \n15     1        0    0  \n60     1        0    0  \n116    1        0    0  \n122    1        0    0  \n140    1        0    0  ",
      "text/html": "<div>\n<style scoped>\n    .dataframe tbody tr th:only-of-type {\n        vertical-align: middle;\n    }\n\n    .dataframe tbody tr th {\n        vertical-align: top;\n    }\n\n    .dataframe thead th {\n        text-align: right;\n    }\n</style>\n<table border=\"1\" class=\"dataframe\">\n  <thead>\n    <tr style=\"text-align: right;\">\n      <th></th>\n      <th>id</th>\n      <th>text</th>\n      <th>label</th>\n      <th>capital</th>\n      <th>gpt</th>\n      <th>xgboost</th>\n      <th>aug</th>\n    </tr>\n  </thead>\n  <tbody>\n    <tr>\n      <th>15</th>\n      <td>15</td>\n      <td>nathan brown, 19, was working with his father ...</td>\n      <td>0</td>\n      <td>0</td>\n      <td>1</td>\n      <td>0</td>\n      <td>0</td>\n    </tr>\n    <tr>\n      <th>60</th>\n      <td>60</td>\n      <td>mass murderer peter sutcliffe is to be moved t...</td>\n      <td>0</td>\n      <td>0</td>\n      <td>1</td>\n      <td>0</td>\n      <td>0</td>\n    </tr>\n    <tr>\n      <th>116</th>\n      <td>116</td>\n      <td>casey levi filmed the moment he tried to get h...</td>\n      <td>0</td>\n      <td>0</td>\n      <td>1</td>\n      <td>0</td>\n      <td>0</td>\n    </tr>\n    <tr>\n      <th>122</th>\n      <td>122</td>\n      <td>wayne kyle gave his first interview since the ...</td>\n      <td>0</td>\n      <td>0</td>\n      <td>1</td>\n      <td>0</td>\n      <td>0</td>\n    </tr>\n    <tr>\n      <th>140</th>\n      <td>140</td>\n      <td>a newly-released video has highlighted the sho...</td>\n      <td>0</td>\n      <td>0</td>\n      <td>1</td>\n      <td>0</td>\n      <td>0</td>\n    </tr>\n  </tbody>\n</table>\n</div>"
     },
     "execution_count": 95,
     "metadata": {},
     "output_type": "execute_result"
    }
   ],
   "source": [
    "test_minuscule = test_set[ test_set[\"label\"] == 0]\n"
   ],
   "metadata": {
    "collapsed": false
   }
  },
  {
   "cell_type": "code",
   "execution_count": 96,
   "outputs": [
    {
     "data": {
      "text/plain": "                id  label  capital         gpt     xgboost         aug\ncount   334.000000  334.0    334.0  334.000000  334.000000  334.000000\nmean   2025.035928    0.0      0.0    0.976048    0.020958    0.011976\nstd    1129.930447    0.0      0.0    0.153129    0.143459    0.108941\nmin      15.000000    0.0      0.0    0.000000    0.000000    0.000000\n25%    1008.000000    0.0      0.0    1.000000    0.000000    0.000000\n50%    2058.000000    0.0      0.0    1.000000    0.000000    0.000000\n75%    2993.250000    0.0      0.0    1.000000    0.000000    0.000000\nmax    3984.000000    0.0      0.0    1.000000    1.000000    1.000000",
      "text/html": "<div>\n<style scoped>\n    .dataframe tbody tr th:only-of-type {\n        vertical-align: middle;\n    }\n\n    .dataframe tbody tr th {\n        vertical-align: top;\n    }\n\n    .dataframe thead th {\n        text-align: right;\n    }\n</style>\n<table border=\"1\" class=\"dataframe\">\n  <thead>\n    <tr style=\"text-align: right;\">\n      <th></th>\n      <th>id</th>\n      <th>label</th>\n      <th>capital</th>\n      <th>gpt</th>\n      <th>xgboost</th>\n      <th>aug</th>\n    </tr>\n  </thead>\n  <tbody>\n    <tr>\n      <th>count</th>\n      <td>334.000000</td>\n      <td>334.0</td>\n      <td>334.0</td>\n      <td>334.000000</td>\n      <td>334.000000</td>\n      <td>334.000000</td>\n    </tr>\n    <tr>\n      <th>mean</th>\n      <td>2025.035928</td>\n      <td>0.0</td>\n      <td>0.0</td>\n      <td>0.976048</td>\n      <td>0.020958</td>\n      <td>0.011976</td>\n    </tr>\n    <tr>\n      <th>std</th>\n      <td>1129.930447</td>\n      <td>0.0</td>\n      <td>0.0</td>\n      <td>0.153129</td>\n      <td>0.143459</td>\n      <td>0.108941</td>\n    </tr>\n    <tr>\n      <th>min</th>\n      <td>15.000000</td>\n      <td>0.0</td>\n      <td>0.0</td>\n      <td>0.000000</td>\n      <td>0.000000</td>\n      <td>0.000000</td>\n    </tr>\n    <tr>\n      <th>25%</th>\n      <td>1008.000000</td>\n      <td>0.0</td>\n      <td>0.0</td>\n      <td>1.000000</td>\n      <td>0.000000</td>\n      <td>0.000000</td>\n    </tr>\n    <tr>\n      <th>50%</th>\n      <td>2058.000000</td>\n      <td>0.0</td>\n      <td>0.0</td>\n      <td>1.000000</td>\n      <td>0.000000</td>\n      <td>0.000000</td>\n    </tr>\n    <tr>\n      <th>75%</th>\n      <td>2993.250000</td>\n      <td>0.0</td>\n      <td>0.0</td>\n      <td>1.000000</td>\n      <td>0.000000</td>\n      <td>0.000000</td>\n    </tr>\n    <tr>\n      <th>max</th>\n      <td>3984.000000</td>\n      <td>0.0</td>\n      <td>0.0</td>\n      <td>1.000000</td>\n      <td>1.000000</td>\n      <td>1.000000</td>\n    </tr>\n  </tbody>\n</table>\n</div>"
     },
     "execution_count": 96,
     "metadata": {},
     "output_type": "execute_result"
    }
   ],
   "source": [
    "test_minuscule.describe()"
   ],
   "metadata": {
    "collapsed": false
   }
  },
  {
   "cell_type": "code",
   "execution_count": null,
   "outputs": [],
   "source": [],
   "metadata": {
    "collapsed": false
   }
  }
 ],
 "metadata": {
  "kernelspec": {
   "display_name": "Python 3",
   "language": "python",
   "name": "python3"
  },
  "language_info": {
   "codemirror_mode": {
    "name": "ipython",
    "version": 2
   },
   "file_extension": ".py",
   "mimetype": "text/x-python",
   "name": "python",
   "nbconvert_exporter": "python",
   "pygments_lexer": "ipython2",
   "version": "2.7.6"
  }
 },
 "nbformat": 4,
 "nbformat_minor": 0
}
