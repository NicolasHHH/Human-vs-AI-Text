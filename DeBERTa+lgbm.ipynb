{
 "cells": [
  {
   "cell_type": "markdown",
   "source": [
    "# RoBERTa / DeBERTa + LGBM"
   ],
   "metadata": {
    "collapsed": false
   }
  },
  {
   "cell_type": "code",
   "execution_count": null,
   "outputs": [],
   "source": [
    "import pandas as pd\n",
    "import csv\n",
    "import random\n",
    "import numpy as np\n",
    "import pandas as pd\n",
    "\n",
    "import torch\n",
    "from sklearn.metrics import accuracy_score\n",
    "\n",
    "if torch.cuda.is_available():\n",
    "    device = torch.device(\"cuda\")\n",
    "else:\n",
    "    device = torch.device(\"cpu\")  # GPU acc on mac : \"mps\"\n",
    "\n",
    "\n",
    "# Read The data\n",
    "training_set = pd.read_json('./data/train_set.json')\n",
    "test_set = pd.read_json('./data/test_set.json')\n",
    "\n",
    "from transformers import DebertaModel, DebertaTokenizer\n",
    "\n",
    "tokenizer = DebertaTokenizer.from_pretrained('microsoft/deberta-base')\n",
    "model = DebertaModel.from_pretrained(\"model_deberta\")  # raw weight : ('microsoft/deberta-base')\n",
    "model.to(device)\n",
    "\n",
    "max_length = 256\n",
    "train_test_split = 3000\n",
    "\n",
    "\n",
    "\n",
    "class NewsGroupsDataset(torch.utils.data.Dataset):\n",
    "    def __init__(self, encodings, labels):\n",
    "        self.encodings = encodings\n",
    "        self.labels = labels\n",
    "\n",
    "    def __getitem__(self, idx):\n",
    "        item = {k: torch.tensor(v[idx]) for k, v in self.encodings.items()}\n",
    "        item[\"labels\"] = torch.tensor([self.labels[idx]])\n",
    "        return item\n",
    "\n",
    "    def __len__(self):\n",
    "        return len(self.labels)\n",
    "\n",
    "\n",
    "def compute_metrics(pred):\n",
    "    labels = pred.label_ids\n",
    "    preds = pred.predictions.argmax(-1)\n",
    "    # calculate accuracy using sklearn's function\n",
    "    acc = accuracy_score(labels, preds)\n",
    "    return {\n",
    "        'accuracy': acc,\n",
    "    }"
   ],
   "metadata": {
    "collapsed": false,
    "pycharm": {
     "is_executing": true
    }
   }
  },
  {
   "cell_type": "code",
   "execution_count": 25,
   "metadata": {
    "id": "AYyObrAC8Vh3"
   },
   "outputs": [],
   "source": [
    "train_encodings = tokenizer(training_set['text'].to_list()[0:train_test_split], truncation=True, padding=True,\n",
    "                                max_length=max_length)\n",
    "valid_encodings = tokenizer(training_set['text'].to_list()[train_test_split:], truncation=True, padding=True,\n",
    "                               max_length=max_length)\n",
    "test_encodings = tokenizer(test_set['text'].to_list(), truncation=True, padding=True,\n",
    "                               max_length=max_length)\n",
    "\n",
    "train_y = training_set['label'].to_list()[0:train_test_split]\n",
    "valid_y = training_set['label'].to_list()[train_test_split:]\n",
    "test_y = [-1]*4000\n",
    "\n",
    "# convert our tokenized data into a torch Dataset\n",
    "train_dataset = NewsGroupsDataset(train_encodings, train_y)\n",
    "valid_dataset = NewsGroupsDataset(valid_encodings, valid_y)\n",
    "test_dataset = NewsGroupsDataset(test_encodings, test_y)"
   ]
  },
  {
   "cell_type": "markdown",
   "source": [
    "## Embeddings"
   ],
   "metadata": {
    "id": "1ViUe07YRV5v"
   }
  },
  {
   "cell_type": "code",
   "execution_count": 3,
   "metadata": {
    "id": "vVaEDekE8qWA"
   },
   "outputs": [],
   "source": [
    "def get_embedding(text):\n",
    "    # prepare our text into tokenized sequence\n",
    "    inputs = tokenizer.encode(text, return_tensors='pt').to(device)\n",
    "    # perform inference to our model\n",
    "    outputs = model(inputs)\n",
    "    return outputs.last_hidden_state[:,0,:] # probs.argmax()"
   ]
  },
  {
   "cell_type": "code",
   "execution_count": 4,
   "metadata": {
    "colab": {
     "base_uri": "https://localhost:8080/"
    },
    "id": "UWkh1GSo8w3H",
    "outputId": "f9e2884d-6aca-4754-bce2-774c851ccb2b"
   },
   "outputs": [
    {
     "data": {
      "text/plain": "torch.Size([1, 768])"
     },
     "execution_count": 4,
     "metadata": {},
     "output_type": "execute_result"
    }
   ],
   "source": [
    "output = get_embedding(\"It is an incontestable fact that the Emperor Napoléon is a genius\")\n",
    "output.shape"
   ]
  },
  {
   "cell_type": "code",
   "execution_count": 5,
   "metadata": {
    "id": "KOYxAjab9XY_"
   },
   "outputs": [],
   "source": [
    "from torch.utils.data import DataLoader\n",
    "train_loader = DataLoader(train_dataset, batch_size=24, shuffle=False)\n",
    "valid_loader = DataLoader(valid_dataset, batch_size=24, shuffle=False)\n",
    "test_loader = DataLoader(test_dataset, batch_size=24, shuffle=False)"
   ]
  },
  {
   "cell_type": "code",
   "execution_count": 6,
   "metadata": {
    "colab": {
     "base_uri": "https://localhost:8080/",
     "height": 66,
     "referenced_widgets": [
      "8c2a7bd5d31843bf91bbb1a1d001db03",
      "d05bf7962edb4ad2a53376eab66a7251",
      "63780bd5e0a740419c093a1f1ff06761",
      "2698ded49a7c42019afd6332ea7aae36",
      "5b1cbeb40c014e3fb40da31297338f33",
      "5aa86ba22a664cc297d8faeca41e4b4e",
      "cb3b999e02494fcb8ea8ffa0c87c927d",
      "b18bc41cd5134e08bbd2423502502850",
      "22c58f460d8b4d7fb8bbc37039b8d635",
      "c43299d303f34911811263dbb79c2797",
      "16d59f4e90f24b199f85f8fc210601ee"
     ]
    },
    "id": "psPaDTPk9cHR",
    "outputId": "5247c54b-d09c-40d6-c10a-1e10bc92f33f"
   },
   "outputs": [
    {
     "data": {
      "text/plain": "  0%|          | 0/4000 [00:00<?, ?it/s]",
      "application/vnd.jupyter.widget-view+json": {
       "version_major": 2,
       "version_minor": 0,
       "model_id": "a5361e9c2b61474694d63416b827b9d4"
      }
     },
     "metadata": {},
     "output_type": "display_data"
    },
    {
     "name": "stderr",
     "output_type": "stream",
     "text": [
      "Token indices sequence length is longer than the specified maximum sequence length for this model (746 > 512). Running this sequence through the model will result in indexing errors\n"
     ]
    }
   ],
   "source": [
    "\n",
    "from tqdm.notebook import tqdm\n",
    "embeddings = []\n",
    "for text in tqdm(training_set['text'].to_list()):\n",
    "    embeddings.append(get_embedding(text).cpu().detach().numpy())\n",
    "embeddings = np.array(embeddings)\n",
    "np.save(\"data/deberta_embeddings_train\", embeddings)"
   ]
  },
  {
   "cell_type": "code",
   "source": [
    "embeddings = []\n",
    "for text in tqdm(test_set['text'].to_list()):\n",
    "    embeddings.append(get_embedding(text).cpu().detach().numpy())\n",
    "embeddings = np.array(embeddings)\n",
    "np.save(\"data/deberta_embeddings_test\", embeddings)"
   ],
   "metadata": {
    "colab": {
     "base_uri": "https://localhost:8080/",
     "height": 49,
     "referenced_widgets": [
      "35622d84a0f647e68abc0eaca522825a",
      "14166386c7cf44369158e4659eea72cb",
      "efcdf4449b6145d68d1b0b84f3e2fa71",
      "0702f7b5fa924e7f8926aa8adc7ebef8",
      "e66cf3b09635411b8f7cbf9ebc53e970",
      "e08786a67bec45d68f875aee172959e5",
      "cb35a248dedd484d8c9fdaa8cc072b36",
      "70c0425709884b35bdbb943c3cd74bf4",
      "01f8adac8ec94da0b25ab07ab71602f1",
      "72409839b7864e95b253d51a1f1ca0e8",
      "5360f0f254304a74b49981962cef8d91"
     ]
    },
    "id": "mXFwJUUt_lfW",
    "outputId": "559b1edf-9ad6-4c15-aea6-3c8d509e2851"
   },
   "execution_count": 7,
   "outputs": [
    {
     "data": {
      "text/plain": "  0%|          | 0/4000 [00:00<?, ?it/s]",
      "application/vnd.jupyter.widget-view+json": {
       "version_major": 2,
       "version_minor": 0,
       "model_id": "f72bf6e802824539b9e927bd48828536"
      }
     },
     "metadata": {},
     "output_type": "display_data"
    }
   ]
  },
  {
   "cell_type": "code",
   "source": [
    "train_embeddings = np.load(\"data/deberta_embeddings_train.npy\")\n",
    "test_embeddings = np.load(\"data/deberta_embeddings_test.npy\")\n",
    "train_embeddings.shape, test_embeddings.shape"
   ],
   "metadata": {
    "colab": {
     "base_uri": "https://localhost:8080/"
    },
    "id": "8WmgIxVSALYE",
    "outputId": "b7b0afa7-fbea-4475-b6b7-959bebb92f65"
   },
   "execution_count": 26,
   "outputs": [
    {
     "data": {
      "text/plain": "((4000, 1, 768), (4000, 1, 768))"
     },
     "execution_count": 26,
     "metadata": {},
     "output_type": "execute_result"
    }
   ]
  },
  {
   "cell_type": "markdown",
   "source": [
    "## Preparing data for classifier"
   ],
   "metadata": {
    "id": "nc4hsWQzRjVI"
   }
  },
  {
   "cell_type": "code",
   "source": [
    "from sklearn.feature_extraction.text import TfidfVectorizer, CountVectorizer\n",
    "\n",
    "tfidf_vect = TfidfVectorizer(max_features=800)\n",
    "tfidf_train = tfidf_vect.fit_transform(training_set['text']).toarray()\n",
    "tfidf_test = tfidf_vect.transform(test_set['text']).toarray()\n",
    "\n",
    "count_vect = CountVectorizer(max_features=100)\n",
    "count_train = count_vect.fit_transform(training_set['text']).toarray()\n",
    "count_test = count_vect.transform(test_set['text']).toarray()"
   ],
   "metadata": {
    "id": "xvLUUT9cCzPN"
   },
   "execution_count": 28,
   "outputs": []
  },
  {
   "cell_type": "code",
   "source": [
    "X_train = np.hstack((train_embeddings.squeeze(), tfidf_train, count_train))\n",
    "X_test =  np.hstack((test_embeddings.squeeze(), tfidf_test, count_test))\n",
    "X_train.shape, X_test.shape"
   ],
   "metadata": {
    "colab": {
     "base_uri": "https://localhost:8080/"
    },
    "id": "KEwrfGwtC2L7",
    "outputId": "b0aab112-3a94-4ae7-c50c-9226dabb4d80"
   },
   "execution_count": 31,
   "outputs": [
    {
     "data": {
      "text/plain": "((4000, 1668), (4000, 1668))"
     },
     "execution_count": 31,
     "metadata": {},
     "output_type": "execute_result"
    }
   ]
  },
  {
   "cell_type": "code",
   "source": [
    "X_train = train_embeddings.squeeze()\n",
    "X_test = test_embeddings.squeeze()\n",
    "X_train.shape, X_test.shape"
   ],
   "metadata": {
    "colab": {
     "base_uri": "https://localhost:8080/"
    },
    "id": "6OS5fRwiBghU",
    "outputId": "7a7942f6-3519-41b3-f10b-0a192b8832d2"
   },
   "execution_count": 30,
   "outputs": [
    {
     "data": {
      "text/plain": "((4000, 768), (4000, 768))"
     },
     "execution_count": 30,
     "metadata": {},
     "output_type": "execute_result"
    }
   ]
  },
  {
   "cell_type": "markdown",
   "source": [
    "### PCA"
   ],
   "metadata": {
    "id": "Ir8i48roRfTp"
   }
  },
  {
   "cell_type": "code",
   "source": [
    "from sklearn.decomposition import PCA\n",
    "pca = PCA(n_components=512)\n",
    "pca.fit(X_train)\n",
    "X_train = pca.transform(X_train)\n",
    "X_test = pca.transform(X_test)\n",
    "X_train.shape, X_test.shape"
   ],
   "metadata": {
    "colab": {
     "base_uri": "https://localhost:8080/"
    },
    "id": "oYWctnrkDPd-",
    "outputId": "016ff7b4-17fe-4d94-cc8d-d895260bef6f"
   },
   "execution_count": 32,
   "outputs": [
    {
     "data": {
      "text/plain": "((4000, 512), (4000, 512))"
     },
     "execution_count": 32,
     "metadata": {},
     "output_type": "execute_result"
    }
   ]
  },
  {
   "cell_type": "code",
   "source": [
    "y_train = np.array(training_set['label'].to_list())\n",
    "y_train.shape"
   ],
   "metadata": {
    "colab": {
     "base_uri": "https://localhost:8080/"
    },
    "id": "4MjimpP3Bx4j",
    "outputId": "3a465641-06b6-4be2-9acc-124935820fa1"
   },
   "execution_count": 33,
   "outputs": [
    {
     "data": {
      "text/plain": "(4000,)"
     },
     "execution_count": 33,
     "metadata": {},
     "output_type": "execute_result"
    }
   ]
  },
  {
   "cell_type": "markdown",
   "source": [
    "## LGBM"
   ],
   "metadata": {
    "id": "aMOZT0rbRs8f"
   }
  },
  {
   "cell_type": "code",
   "source": [
    "from lightgbm import LGBMClassifier\n",
    "bst = LGBMClassifier()\n",
    "split = 3600\n",
    "bst.fit(X_train[0:split], y_train[0:split])"
   ],
   "metadata": {
    "colab": {
     "base_uri": "https://localhost:8080/",
     "height": 74
    },
    "id": "1SjkIjHJAh_F",
    "outputId": "74b66e28-7abd-4c1e-80ca-54e9f4eba718"
   },
   "execution_count": 37,
   "outputs": [
    {
     "data": {
      "text/plain": "LGBMClassifier()",
      "text/html": "<style>#sk-container-id-6 {color: black;background-color: white;}#sk-container-id-6 pre{padding: 0;}#sk-container-id-6 div.sk-toggleable {background-color: white;}#sk-container-id-6 label.sk-toggleable__label {cursor: pointer;display: block;width: 100%;margin-bottom: 0;padding: 0.3em;box-sizing: border-box;text-align: center;}#sk-container-id-6 label.sk-toggleable__label-arrow:before {content: \"▸\";float: left;margin-right: 0.25em;color: #696969;}#sk-container-id-6 label.sk-toggleable__label-arrow:hover:before {color: black;}#sk-container-id-6 div.sk-estimator:hover label.sk-toggleable__label-arrow:before {color: black;}#sk-container-id-6 div.sk-toggleable__content {max-height: 0;max-width: 0;overflow: hidden;text-align: left;background-color: #f0f8ff;}#sk-container-id-6 div.sk-toggleable__content pre {margin: 0.2em;color: black;border-radius: 0.25em;background-color: #f0f8ff;}#sk-container-id-6 input.sk-toggleable__control:checked~div.sk-toggleable__content {max-height: 200px;max-width: 100%;overflow: auto;}#sk-container-id-6 input.sk-toggleable__control:checked~label.sk-toggleable__label-arrow:before {content: \"▾\";}#sk-container-id-6 div.sk-estimator input.sk-toggleable__control:checked~label.sk-toggleable__label {background-color: #d4ebff;}#sk-container-id-6 div.sk-label input.sk-toggleable__control:checked~label.sk-toggleable__label {background-color: #d4ebff;}#sk-container-id-6 input.sk-hidden--visually {border: 0;clip: rect(1px 1px 1px 1px);clip: rect(1px, 1px, 1px, 1px);height: 1px;margin: -1px;overflow: hidden;padding: 0;position: absolute;width: 1px;}#sk-container-id-6 div.sk-estimator {font-family: monospace;background-color: #f0f8ff;border: 1px dotted black;border-radius: 0.25em;box-sizing: border-box;margin-bottom: 0.5em;}#sk-container-id-6 div.sk-estimator:hover {background-color: #d4ebff;}#sk-container-id-6 div.sk-parallel-item::after {content: \"\";width: 100%;border-bottom: 1px solid gray;flex-grow: 1;}#sk-container-id-6 div.sk-label:hover label.sk-toggleable__label {background-color: #d4ebff;}#sk-container-id-6 div.sk-serial::before {content: \"\";position: absolute;border-left: 1px solid gray;box-sizing: border-box;top: 0;bottom: 0;left: 50%;z-index: 0;}#sk-container-id-6 div.sk-serial {display: flex;flex-direction: column;align-items: center;background-color: white;padding-right: 0.2em;padding-left: 0.2em;position: relative;}#sk-container-id-6 div.sk-item {position: relative;z-index: 1;}#sk-container-id-6 div.sk-parallel {display: flex;align-items: stretch;justify-content: center;background-color: white;position: relative;}#sk-container-id-6 div.sk-item::before, #sk-container-id-6 div.sk-parallel-item::before {content: \"\";position: absolute;border-left: 1px solid gray;box-sizing: border-box;top: 0;bottom: 0;left: 50%;z-index: -1;}#sk-container-id-6 div.sk-parallel-item {display: flex;flex-direction: column;z-index: 1;position: relative;background-color: white;}#sk-container-id-6 div.sk-parallel-item:first-child::after {align-self: flex-end;width: 50%;}#sk-container-id-6 div.sk-parallel-item:last-child::after {align-self: flex-start;width: 50%;}#sk-container-id-6 div.sk-parallel-item:only-child::after {width: 0;}#sk-container-id-6 div.sk-dashed-wrapped {border: 1px dashed gray;margin: 0 0.4em 0.5em 0.4em;box-sizing: border-box;padding-bottom: 0.4em;background-color: white;}#sk-container-id-6 div.sk-label label {font-family: monospace;font-weight: bold;display: inline-block;line-height: 1.2em;}#sk-container-id-6 div.sk-label-container {text-align: center;}#sk-container-id-6 div.sk-container {/* jupyter's `normalize.less` sets `[hidden] { display: none; }` but bootstrap.min.css set `[hidden] { display: none !important; }` so we also need the `!important` here to be able to override the default hidden behavior on the sphinx rendered scikit-learn.org. See: https://github.com/scikit-learn/scikit-learn/issues/21755 */display: inline-block !important;position: relative;}#sk-container-id-6 div.sk-text-repr-fallback {display: none;}</style><div id=\"sk-container-id-6\" class=\"sk-top-container\"><div class=\"sk-text-repr-fallback\"><pre>LGBMClassifier()</pre><b>In a Jupyter environment, please rerun this cell to show the HTML representation or trust the notebook. <br />On GitHub, the HTML representation is unable to render, please try loading this page with nbviewer.org.</b></div><div class=\"sk-container\" hidden><div class=\"sk-item\"><div class=\"sk-estimator sk-toggleable\"><input class=\"sk-toggleable__control sk-hidden--visually\" id=\"sk-estimator-id-10\" type=\"checkbox\" checked><label for=\"sk-estimator-id-10\" class=\"sk-toggleable__label sk-toggleable__label-arrow\">LGBMClassifier</label><div class=\"sk-toggleable__content\"><pre>LGBMClassifier()</pre></div></div></div></div></div>"
     },
     "execution_count": 37,
     "metadata": {},
     "output_type": "execute_result"
    }
   ]
  },
  {
   "cell_type": "code",
   "source": [
    "preds = bst.predict(X_train[split:])"
   ],
   "metadata": {
    "id": "IpF9inKrCe6r"
   },
   "execution_count": 38,
   "outputs": []
  },
  {
   "cell_type": "code",
   "source": [
    "np.sum(y_train[split:] == np.array(preds))/(4000-split)"
   ],
   "metadata": {
    "colab": {
     "base_uri": "https://localhost:8080/"
    },
    "id": "ob3QDTxDCl9L",
    "outputId": "a52efb15-5832-424d-a50a-9cf2ebb74e4f"
   },
   "execution_count": 39,
   "outputs": [
    {
     "data": {
      "text/plain": "1.0"
     },
     "execution_count": 39,
     "metadata": {},
     "output_type": "execute_result"
    }
   ]
  },
  {
   "cell_type": "code",
   "source": [
    "from sklearn.model_selection import GridSearchCV\n",
    "from lightgbm import LGBMClassifier\n",
    "\n",
    "# Define the parameter grid\n",
    "param_grid = {\n",
    "    'num_leaves': [16,32,64,],\n",
    "    'learning_rate': [0.01, 0.05, 0.1],\n",
    "    'n_estimators': [100,200,500]\n",
    "}\n",
    "\n",
    "# Create a LGBMClassifier object\n",
    "lgbm = LGBMClassifier()\n",
    "\n",
    "# Create a GridSearchCV object\n",
    "grid_search = GridSearchCV(estimator=lgbm,\n",
    "                           param_grid=param_grid,\n",
    "                           cv=5,\n",
    "                           scoring='accuracy',verbose=3)\n",
    "\n",
    "# Fit the GridSearchCV object to the data\n",
    "grid_search.fit(X_train, y_train)\n",
    "\n",
    "# Get the best parameters and score\n",
    "best_params = grid_search.best_params_\n",
    "best_score = grid_search.best_score_\n",
    "\n",
    "print(f'Best parameters: {best_params}')\n",
    "print(f'Best score: {best_score}')"
   ],
   "metadata": {
    "colab": {
     "base_uri": "https://localhost:8080/",
     "height": 453
    },
    "id": "I8qv9DTOHm6o",
    "outputId": "565f5d70-ab9a-4521-eb4c-402a4f0305d9"
   },
   "execution_count": 40,
   "outputs": [
    {
     "name": "stdout",
     "output_type": "stream",
     "text": [
      "Fitting 5 folds for each of 27 candidates, totalling 135 fits\n",
      "[CV 1/5] END learning_rate=0.01, n_estimators=100, num_leaves=16;, score=0.975 total time=   0.9s\n",
      "[CV 2/5] END learning_rate=0.01, n_estimators=100, num_leaves=16;, score=0.993 total time=   0.8s\n",
      "[CV 3/5] END learning_rate=0.01, n_estimators=100, num_leaves=16;, score=0.996 total time=   0.7s\n",
      "[CV 4/5] END learning_rate=0.01, n_estimators=100, num_leaves=16;, score=0.994 total time=   0.7s\n",
      "[CV 5/5] END learning_rate=0.01, n_estimators=100, num_leaves=16;, score=0.993 total time=   0.7s\n",
      "[CV 1/5] END learning_rate=0.01, n_estimators=100, num_leaves=32;, score=0.975 total time=   1.2s\n",
      "[CV 2/5] END learning_rate=0.01, n_estimators=100, num_leaves=32;, score=0.993 total time=   1.1s\n",
      "[CV 3/5] END learning_rate=0.01, n_estimators=100, num_leaves=32;, score=0.996 total time=   1.2s\n",
      "[CV 4/5] END learning_rate=0.01, n_estimators=100, num_leaves=32;, score=0.994 total time=   1.1s\n",
      "[CV 5/5] END learning_rate=0.01, n_estimators=100, num_leaves=32;, score=0.993 total time=   1.1s\n",
      "[CV 1/5] END learning_rate=0.01, n_estimators=100, num_leaves=64;, score=0.975 total time=   2.2s\n",
      "[CV 2/5] END learning_rate=0.01, n_estimators=100, num_leaves=64;, score=0.993 total time=   1.7s\n",
      "[CV 3/5] END learning_rate=0.01, n_estimators=100, num_leaves=64;, score=0.996 total time=   2.0s\n",
      "[CV 4/5] END learning_rate=0.01, n_estimators=100, num_leaves=64;, score=0.994 total time=   2.0s\n",
      "[CV 5/5] END learning_rate=0.01, n_estimators=100, num_leaves=64;, score=0.993 total time=   1.7s\n",
      "[CV 1/5] END learning_rate=0.01, n_estimators=200, num_leaves=16;, score=0.980 total time=   1.2s\n",
      "[CV 2/5] END learning_rate=0.01, n_estimators=200, num_leaves=16;, score=0.995 total time=   1.1s\n",
      "[CV 3/5] END learning_rate=0.01, n_estimators=200, num_leaves=16;, score=0.996 total time=   1.1s\n",
      "[CV 4/5] END learning_rate=0.01, n_estimators=200, num_leaves=16;, score=0.996 total time=   1.1s\n",
      "[CV 5/5] END learning_rate=0.01, n_estimators=200, num_leaves=16;, score=0.998 total time=   1.2s\n",
      "[CV 1/5] END learning_rate=0.01, n_estimators=200, num_leaves=32;, score=0.980 total time=   2.2s\n",
      "[CV 2/5] END learning_rate=0.01, n_estimators=200, num_leaves=32;, score=0.995 total time=   2.1s\n",
      "[CV 3/5] END learning_rate=0.01, n_estimators=200, num_leaves=32;, score=0.996 total time=   2.2s\n",
      "[CV 4/5] END learning_rate=0.01, n_estimators=200, num_leaves=32;, score=0.996 total time=   2.1s\n",
      "[CV 5/5] END learning_rate=0.01, n_estimators=200, num_leaves=32;, score=0.998 total time=   2.2s\n",
      "[CV 1/5] END learning_rate=0.01, n_estimators=200, num_leaves=64;, score=0.980 total time=   4.2s\n",
      "[CV 2/5] END learning_rate=0.01, n_estimators=200, num_leaves=64;, score=0.995 total time=   3.6s\n",
      "[CV 3/5] END learning_rate=0.01, n_estimators=200, num_leaves=64;, score=0.996 total time=   4.0s\n",
      "[CV 4/5] END learning_rate=0.01, n_estimators=200, num_leaves=64;, score=0.996 total time=   4.0s\n",
      "[CV 5/5] END learning_rate=0.01, n_estimators=200, num_leaves=64;, score=0.998 total time=   3.8s\n",
      "[CV 1/5] END learning_rate=0.01, n_estimators=500, num_leaves=16;, score=0.983 total time=   2.7s\n",
      "[CV 2/5] END learning_rate=0.01, n_estimators=500, num_leaves=16;, score=0.995 total time=   2.6s\n",
      "[CV 3/5] END learning_rate=0.01, n_estimators=500, num_leaves=16;, score=0.995 total time=   2.7s\n",
      "[CV 4/5] END learning_rate=0.01, n_estimators=500, num_leaves=16;, score=0.996 total time=   2.6s\n",
      "[CV 5/5] END learning_rate=0.01, n_estimators=500, num_leaves=16;, score=0.998 total time=   2.7s\n",
      "[CV 1/5] END learning_rate=0.01, n_estimators=500, num_leaves=32;, score=0.984 total time=   5.4s\n",
      "[CV 2/5] END learning_rate=0.01, n_estimators=500, num_leaves=32;, score=0.995 total time=   5.2s\n",
      "[CV 3/5] END learning_rate=0.01, n_estimators=500, num_leaves=32;, score=0.995 total time=   5.3s\n",
      "[CV 4/5] END learning_rate=0.01, n_estimators=500, num_leaves=32;, score=0.996 total time=   5.3s\n",
      "[CV 5/5] END learning_rate=0.01, n_estimators=500, num_leaves=32;, score=0.998 total time=   5.3s\n",
      "[CV 1/5] END learning_rate=0.01, n_estimators=500, num_leaves=64;, score=0.984 total time=  10.3s\n",
      "[CV 2/5] END learning_rate=0.01, n_estimators=500, num_leaves=64;, score=0.995 total time=   9.8s\n",
      "[CV 3/5] END learning_rate=0.01, n_estimators=500, num_leaves=64;, score=0.995 total time=  10.2s\n",
      "[CV 4/5] END learning_rate=0.01, n_estimators=500, num_leaves=64;, score=0.996 total time=  10.0s\n",
      "[CV 5/5] END learning_rate=0.01, n_estimators=500, num_leaves=64;, score=0.998 total time=  10.0s\n",
      "[CV 1/5] END learning_rate=0.05, n_estimators=100, num_leaves=16;, score=0.984 total time=   0.6s\n",
      "[CV 2/5] END learning_rate=0.05, n_estimators=100, num_leaves=16;, score=0.995 total time=   0.6s\n",
      "[CV 3/5] END learning_rate=0.05, n_estimators=100, num_leaves=16;, score=0.995 total time=   0.6s\n",
      "[CV 4/5] END learning_rate=0.05, n_estimators=100, num_leaves=16;, score=0.996 total time=   0.6s\n",
      "[CV 5/5] END learning_rate=0.05, n_estimators=100, num_leaves=16;, score=0.998 total time=   0.6s\n",
      "[CV 1/5] END learning_rate=0.05, n_estimators=100, num_leaves=32;, score=0.984 total time=   1.1s\n",
      "[CV 2/5] END learning_rate=0.05, n_estimators=100, num_leaves=32;, score=0.995 total time=   1.1s\n",
      "[CV 3/5] END learning_rate=0.05, n_estimators=100, num_leaves=32;, score=0.995 total time=   1.1s\n",
      "[CV 4/5] END learning_rate=0.05, n_estimators=100, num_leaves=32;, score=0.996 total time=   1.1s\n",
      "[CV 5/5] END learning_rate=0.05, n_estimators=100, num_leaves=32;, score=0.998 total time=   1.1s\n",
      "[CV 1/5] END learning_rate=0.05, n_estimators=100, num_leaves=64;, score=0.984 total time=   2.0s\n",
      "[CV 2/5] END learning_rate=0.05, n_estimators=100, num_leaves=64;, score=0.995 total time=   1.9s\n",
      "[CV 3/5] END learning_rate=0.05, n_estimators=100, num_leaves=64;, score=0.995 total time=   2.1s\n",
      "[CV 4/5] END learning_rate=0.05, n_estimators=100, num_leaves=64;, score=0.996 total time=   2.0s\n",
      "[CV 5/5] END learning_rate=0.05, n_estimators=100, num_leaves=64;, score=0.998 total time=   2.0s\n",
      "[CV 1/5] END learning_rate=0.05, n_estimators=200, num_leaves=16;, score=0.985 total time=   1.1s\n",
      "[CV 2/5] END learning_rate=0.05, n_estimators=200, num_leaves=16;, score=0.999 total time=   1.2s\n",
      "[CV 3/5] END learning_rate=0.05, n_estimators=200, num_leaves=16;, score=0.998 total time=   1.3s\n",
      "[CV 4/5] END learning_rate=0.05, n_estimators=200, num_leaves=16;, score=0.998 total time=   1.2s\n",
      "[CV 5/5] END learning_rate=0.05, n_estimators=200, num_leaves=16;, score=0.999 total time=   1.2s\n",
      "[CV 1/5] END learning_rate=0.05, n_estimators=200, num_leaves=32;, score=0.985 total time=   2.8s\n",
      "[CV 2/5] END learning_rate=0.05, n_estimators=200, num_leaves=32;, score=0.999 total time=   2.2s\n",
      "[CV 3/5] END learning_rate=0.05, n_estimators=200, num_leaves=32;, score=0.998 total time=   2.2s\n",
      "[CV 4/5] END learning_rate=0.05, n_estimators=200, num_leaves=32;, score=0.998 total time=   2.1s\n",
      "[CV 5/5] END learning_rate=0.05, n_estimators=200, num_leaves=32;, score=0.999 total time=   2.1s\n",
      "[CV 1/5] END learning_rate=0.05, n_estimators=200, num_leaves=64;, score=0.985 total time=   4.2s\n",
      "[CV 2/5] END learning_rate=0.05, n_estimators=200, num_leaves=64;, score=0.999 total time=   4.2s\n",
      "[CV 3/5] END learning_rate=0.05, n_estimators=200, num_leaves=64;, score=0.999 total time=   4.3s\n",
      "[CV 4/5] END learning_rate=0.05, n_estimators=200, num_leaves=64;, score=0.998 total time=   4.1s\n",
      "[CV 5/5] END learning_rate=0.05, n_estimators=200, num_leaves=64;, score=0.999 total time=   4.2s\n",
      "[CV 1/5] END learning_rate=0.05, n_estimators=500, num_leaves=16;, score=0.985 total time=   1.6s\n",
      "[CV 2/5] END learning_rate=0.05, n_estimators=500, num_leaves=16;, score=0.998 total time=   1.8s\n",
      "[CV 3/5] END learning_rate=0.05, n_estimators=500, num_leaves=16;, score=0.999 total time=   1.7s\n",
      "[CV 4/5] END learning_rate=0.05, n_estimators=500, num_leaves=16;, score=0.998 total time=   1.7s\n",
      "[CV 5/5] END learning_rate=0.05, n_estimators=500, num_leaves=16;, score=0.999 total time=   1.7s\n",
      "[CV 1/5] END learning_rate=0.05, n_estimators=500, num_leaves=32;, score=0.985 total time=   2.6s\n",
      "[CV 2/5] END learning_rate=0.05, n_estimators=500, num_leaves=32;, score=0.998 total time=   2.9s\n",
      "[CV 3/5] END learning_rate=0.05, n_estimators=500, num_leaves=32;, score=0.999 total time=   3.0s\n",
      "[CV 4/5] END learning_rate=0.05, n_estimators=500, num_leaves=32;, score=0.998 total time=   2.9s\n",
      "[CV 5/5] END learning_rate=0.05, n_estimators=500, num_leaves=32;, score=0.999 total time=   2.9s\n",
      "[CV 1/5] END learning_rate=0.05, n_estimators=500, num_leaves=64;, score=0.985 total time=   4.5s\n",
      "[CV 2/5] END learning_rate=0.05, n_estimators=500, num_leaves=64;, score=0.998 total time=   4.9s\n",
      "[CV 3/5] END learning_rate=0.05, n_estimators=500, num_leaves=64;, score=0.999 total time=   5.1s\n",
      "[CV 4/5] END learning_rate=0.05, n_estimators=500, num_leaves=64;, score=0.998 total time=   5.0s\n",
      "[CV 5/5] END learning_rate=0.05, n_estimators=500, num_leaves=64;, score=0.999 total time=   5.0s\n",
      "[CV 1/5] END learning_rate=0.1, n_estimators=100, num_leaves=16;, score=0.985 total time=   0.6s\n",
      "[CV 2/5] END learning_rate=0.1, n_estimators=100, num_leaves=16;, score=0.999 total time=   0.6s\n",
      "[CV 3/5] END learning_rate=0.1, n_estimators=100, num_leaves=16;, score=0.999 total time=   0.6s\n",
      "[CV 4/5] END learning_rate=0.1, n_estimators=100, num_leaves=16;, score=0.998 total time=   0.6s\n",
      "[CV 5/5] END learning_rate=0.1, n_estimators=100, num_leaves=16;, score=0.999 total time=   0.6s\n",
      "[CV 1/5] END learning_rate=0.1, n_estimators=100, num_leaves=32;, score=0.985 total time=   1.1s\n",
      "[CV 2/5] END learning_rate=0.1, n_estimators=100, num_leaves=32;, score=0.998 total time=   1.1s\n",
      "[CV 3/5] END learning_rate=0.1, n_estimators=100, num_leaves=32;, score=0.999 total time=   1.1s\n",
      "[CV 4/5] END learning_rate=0.1, n_estimators=100, num_leaves=32;, score=0.998 total time=   1.1s\n",
      "[CV 5/5] END learning_rate=0.1, n_estimators=100, num_leaves=32;, score=0.999 total time=   1.1s\n",
      "[CV 1/5] END learning_rate=0.1, n_estimators=100, num_leaves=64;, score=0.985 total time=   2.0s\n",
      "[CV 2/5] END learning_rate=0.1, n_estimators=100, num_leaves=64;, score=0.998 total time=   2.0s\n",
      "[CV 3/5] END learning_rate=0.1, n_estimators=100, num_leaves=64;, score=0.999 total time=   2.1s\n",
      "[CV 4/5] END learning_rate=0.1, n_estimators=100, num_leaves=64;, score=0.998 total time=   2.0s\n",
      "[CV 5/5] END learning_rate=0.1, n_estimators=100, num_leaves=64;, score=0.999 total time=   2.0s\n",
      "[CV 1/5] END learning_rate=0.1, n_estimators=200, num_leaves=16;, score=0.985 total time=   0.8s\n",
      "[CV 2/5] END learning_rate=0.1, n_estimators=200, num_leaves=16;, score=0.999 total time=   0.9s\n",
      "[CV 3/5] END learning_rate=0.1, n_estimators=200, num_leaves=16;, score=0.999 total time=   0.9s\n",
      "[CV 4/5] END learning_rate=0.1, n_estimators=200, num_leaves=16;, score=0.998 total time=   0.8s\n",
      "[CV 5/5] END learning_rate=0.1, n_estimators=200, num_leaves=16;, score=0.999 total time=   0.9s\n",
      "[CV 1/5] END learning_rate=0.1, n_estimators=200, num_leaves=32;, score=0.985 total time=   1.3s\n",
      "[CV 2/5] END learning_rate=0.1, n_estimators=200, num_leaves=32;, score=0.999 total time=   1.4s\n",
      "[CV 3/5] END learning_rate=0.1, n_estimators=200, num_leaves=32;, score=0.999 total time=   1.5s\n",
      "[CV 4/5] END learning_rate=0.1, n_estimators=200, num_leaves=32;, score=0.998 total time=   1.5s\n",
      "[CV 5/5] END learning_rate=0.1, n_estimators=200, num_leaves=32;, score=0.999 total time=   1.5s\n",
      "[CV 1/5] END learning_rate=0.1, n_estimators=200, num_leaves=64;, score=0.985 total time=   2.3s\n",
      "[CV 2/5] END learning_rate=0.1, n_estimators=200, num_leaves=64;, score=0.999 total time=   2.4s\n",
      "[CV 3/5] END learning_rate=0.1, n_estimators=200, num_leaves=64;, score=0.999 total time=   2.5s\n",
      "[CV 4/5] END learning_rate=0.1, n_estimators=200, num_leaves=64;, score=0.998 total time=   2.5s\n",
      "[CV 5/5] END learning_rate=0.1, n_estimators=200, num_leaves=64;, score=0.999 total time=   2.5s\n",
      "[CV 1/5] END learning_rate=0.1, n_estimators=500, num_leaves=16;, score=0.985 total time=   0.9s\n",
      "[CV 2/5] END learning_rate=0.1, n_estimators=500, num_leaves=16;, score=0.999 total time=   1.0s\n",
      "[CV 3/5] END learning_rate=0.1, n_estimators=500, num_leaves=16;, score=0.999 total time=   1.0s\n",
      "[CV 4/5] END learning_rate=0.1, n_estimators=500, num_leaves=16;, score=0.998 total time=   1.0s\n",
      "[CV 5/5] END learning_rate=0.1, n_estimators=500, num_leaves=16;, score=0.999 total time=   1.0s\n",
      "[CV 1/5] END learning_rate=0.1, n_estimators=500, num_leaves=32;, score=0.985 total time=   1.4s\n",
      "[CV 2/5] END learning_rate=0.1, n_estimators=500, num_leaves=32;, score=0.998 total time=   1.6s\n",
      "[CV 3/5] END learning_rate=0.1, n_estimators=500, num_leaves=32;, score=0.999 total time=   1.6s\n",
      "[CV 4/5] END learning_rate=0.1, n_estimators=500, num_leaves=32;, score=0.998 total time=   1.6s\n",
      "[CV 5/5] END learning_rate=0.1, n_estimators=500, num_leaves=32;, score=0.999 total time=   1.6s\n",
      "[CV 1/5] END learning_rate=0.1, n_estimators=500, num_leaves=64;, score=0.985 total time=   2.4s\n",
      "[CV 2/5] END learning_rate=0.1, n_estimators=500, num_leaves=64;, score=0.998 total time=   2.6s\n",
      "[CV 3/5] END learning_rate=0.1, n_estimators=500, num_leaves=64;, score=0.999 total time=   2.6s\n",
      "[CV 4/5] END learning_rate=0.1, n_estimators=500, num_leaves=64;, score=0.998 total time=   2.6s\n",
      "[CV 5/5] END learning_rate=0.1, n_estimators=500, num_leaves=64;, score=0.999 total time=   2.7s\n",
      "Best parameters: {'learning_rate': 0.05, 'n_estimators': 200, 'num_leaves': 64}\n",
      "Best score: 0.9957499999999999\n"
     ]
    }
   ]
  },
  {
   "cell_type": "code",
   "execution_count": 41,
   "outputs": [
    {
     "data": {
      "text/plain": "(4000,)"
     },
     "execution_count": 41,
     "metadata": {},
     "output_type": "execute_result"
    }
   ],
   "source": [
    "predictions = grid_search.predict(X_test)\n",
    "predictions.shape"
   ],
   "metadata": {
    "collapsed": false
   }
  },
  {
   "cell_type": "code",
   "execution_count": 42,
   "outputs": [
    {
     "data": {
      "text/plain": "GridSearchCV(cv=5, estimator=LGBMClassifier(),\n             param_grid={'learning_rate': [0.01, 0.05, 0.1],\n                         'n_estimators': [100, 200, 500],\n                         'num_leaves': [16, 32, 64]},\n             scoring='accuracy', verbose=3)",
      "text/html": "<style>#sk-container-id-7 {color: black;background-color: white;}#sk-container-id-7 pre{padding: 0;}#sk-container-id-7 div.sk-toggleable {background-color: white;}#sk-container-id-7 label.sk-toggleable__label {cursor: pointer;display: block;width: 100%;margin-bottom: 0;padding: 0.3em;box-sizing: border-box;text-align: center;}#sk-container-id-7 label.sk-toggleable__label-arrow:before {content: \"▸\";float: left;margin-right: 0.25em;color: #696969;}#sk-container-id-7 label.sk-toggleable__label-arrow:hover:before {color: black;}#sk-container-id-7 div.sk-estimator:hover label.sk-toggleable__label-arrow:before {color: black;}#sk-container-id-7 div.sk-toggleable__content {max-height: 0;max-width: 0;overflow: hidden;text-align: left;background-color: #f0f8ff;}#sk-container-id-7 div.sk-toggleable__content pre {margin: 0.2em;color: black;border-radius: 0.25em;background-color: #f0f8ff;}#sk-container-id-7 input.sk-toggleable__control:checked~div.sk-toggleable__content {max-height: 200px;max-width: 100%;overflow: auto;}#sk-container-id-7 input.sk-toggleable__control:checked~label.sk-toggleable__label-arrow:before {content: \"▾\";}#sk-container-id-7 div.sk-estimator input.sk-toggleable__control:checked~label.sk-toggleable__label {background-color: #d4ebff;}#sk-container-id-7 div.sk-label input.sk-toggleable__control:checked~label.sk-toggleable__label {background-color: #d4ebff;}#sk-container-id-7 input.sk-hidden--visually {border: 0;clip: rect(1px 1px 1px 1px);clip: rect(1px, 1px, 1px, 1px);height: 1px;margin: -1px;overflow: hidden;padding: 0;position: absolute;width: 1px;}#sk-container-id-7 div.sk-estimator {font-family: monospace;background-color: #f0f8ff;border: 1px dotted black;border-radius: 0.25em;box-sizing: border-box;margin-bottom: 0.5em;}#sk-container-id-7 div.sk-estimator:hover {background-color: #d4ebff;}#sk-container-id-7 div.sk-parallel-item::after {content: \"\";width: 100%;border-bottom: 1px solid gray;flex-grow: 1;}#sk-container-id-7 div.sk-label:hover label.sk-toggleable__label {background-color: #d4ebff;}#sk-container-id-7 div.sk-serial::before {content: \"\";position: absolute;border-left: 1px solid gray;box-sizing: border-box;top: 0;bottom: 0;left: 50%;z-index: 0;}#sk-container-id-7 div.sk-serial {display: flex;flex-direction: column;align-items: center;background-color: white;padding-right: 0.2em;padding-left: 0.2em;position: relative;}#sk-container-id-7 div.sk-item {position: relative;z-index: 1;}#sk-container-id-7 div.sk-parallel {display: flex;align-items: stretch;justify-content: center;background-color: white;position: relative;}#sk-container-id-7 div.sk-item::before, #sk-container-id-7 div.sk-parallel-item::before {content: \"\";position: absolute;border-left: 1px solid gray;box-sizing: border-box;top: 0;bottom: 0;left: 50%;z-index: -1;}#sk-container-id-7 div.sk-parallel-item {display: flex;flex-direction: column;z-index: 1;position: relative;background-color: white;}#sk-container-id-7 div.sk-parallel-item:first-child::after {align-self: flex-end;width: 50%;}#sk-container-id-7 div.sk-parallel-item:last-child::after {align-self: flex-start;width: 50%;}#sk-container-id-7 div.sk-parallel-item:only-child::after {width: 0;}#sk-container-id-7 div.sk-dashed-wrapped {border: 1px dashed gray;margin: 0 0.4em 0.5em 0.4em;box-sizing: border-box;padding-bottom: 0.4em;background-color: white;}#sk-container-id-7 div.sk-label label {font-family: monospace;font-weight: bold;display: inline-block;line-height: 1.2em;}#sk-container-id-7 div.sk-label-container {text-align: center;}#sk-container-id-7 div.sk-container {/* jupyter's `normalize.less` sets `[hidden] { display: none; }` but bootstrap.min.css set `[hidden] { display: none !important; }` so we also need the `!important` here to be able to override the default hidden behavior on the sphinx rendered scikit-learn.org. See: https://github.com/scikit-learn/scikit-learn/issues/21755 */display: inline-block !important;position: relative;}#sk-container-id-7 div.sk-text-repr-fallback {display: none;}</style><div id=\"sk-container-id-7\" class=\"sk-top-container\"><div class=\"sk-text-repr-fallback\"><pre>GridSearchCV(cv=5, estimator=LGBMClassifier(),\n             param_grid={&#x27;learning_rate&#x27;: [0.01, 0.05, 0.1],\n                         &#x27;n_estimators&#x27;: [100, 200, 500],\n                         &#x27;num_leaves&#x27;: [16, 32, 64]},\n             scoring=&#x27;accuracy&#x27;, verbose=3)</pre><b>In a Jupyter environment, please rerun this cell to show the HTML representation or trust the notebook. <br />On GitHub, the HTML representation is unable to render, please try loading this page with nbviewer.org.</b></div><div class=\"sk-container\" hidden><div class=\"sk-item sk-dashed-wrapped\"><div class=\"sk-label-container\"><div class=\"sk-label sk-toggleable\"><input class=\"sk-toggleable__control sk-hidden--visually\" id=\"sk-estimator-id-11\" type=\"checkbox\" ><label for=\"sk-estimator-id-11\" class=\"sk-toggleable__label sk-toggleable__label-arrow\">GridSearchCV</label><div class=\"sk-toggleable__content\"><pre>GridSearchCV(cv=5, estimator=LGBMClassifier(),\n             param_grid={&#x27;learning_rate&#x27;: [0.01, 0.05, 0.1],\n                         &#x27;n_estimators&#x27;: [100, 200, 500],\n                         &#x27;num_leaves&#x27;: [16, 32, 64]},\n             scoring=&#x27;accuracy&#x27;, verbose=3)</pre></div></div></div><div class=\"sk-parallel\"><div class=\"sk-parallel-item\"><div class=\"sk-item\"><div class=\"sk-label-container\"><div class=\"sk-label sk-toggleable\"><input class=\"sk-toggleable__control sk-hidden--visually\" id=\"sk-estimator-id-12\" type=\"checkbox\" ><label for=\"sk-estimator-id-12\" class=\"sk-toggleable__label sk-toggleable__label-arrow\">estimator: LGBMClassifier</label><div class=\"sk-toggleable__content\"><pre>LGBMClassifier()</pre></div></div></div><div class=\"sk-serial\"><div class=\"sk-item\"><div class=\"sk-estimator sk-toggleable\"><input class=\"sk-toggleable__control sk-hidden--visually\" id=\"sk-estimator-id-13\" type=\"checkbox\" ><label for=\"sk-estimator-id-13\" class=\"sk-toggleable__label sk-toggleable__label-arrow\">LGBMClassifier</label><div class=\"sk-toggleable__content\"><pre>LGBMClassifier()</pre></div></div></div></div></div></div></div></div></div></div>"
     },
     "execution_count": 42,
     "metadata": {},
     "output_type": "execute_result"
    }
   ],
   "source": [
    "grid_search"
   ],
   "metadata": {
    "collapsed": false
   }
  },
  {
   "cell_type": "code",
   "execution_count": 43,
   "outputs": [],
   "source": [
    "with open(\"submission_deberta_lgbm.csv\", \"w\") as pred:\n",
    "    csv_out = csv.writer(pred)\n",
    "    csv_out.writerow(['id', 'label'])\n",
    "    for i, row in enumerate(predictions):\n",
    "        csv_out.writerow([i, row])"
   ],
   "metadata": {
    "collapsed": false
   }
  },
  {
   "cell_type": "code",
   "execution_count": null,
   "outputs": [],
   "source": [],
   "metadata": {
    "collapsed": false
   }
  }
 ],
 "metadata": {
  "accelerator": "GPU",
  "colab": {
   "provenance": []
  },
  "gpuClass": "standard",
  "kernelspec": {
   "display_name": "Python 3",
   "name": "python3"
  },
  "language_info": {
   "name": "python"
  },
  "widgets": {
   "application/vnd.jupyter.widget-state+json": {
    "8c2a7bd5d31843bf91bbb1a1d001db03": {
     "model_module": "@jupyter-widgets/controls",
     "model_name": "HBoxModel",
     "model_module_version": "1.5.0",
     "state": {
      "_dom_classes": [],
      "_model_module": "@jupyter-widgets/controls",
      "_model_module_version": "1.5.0",
      "_model_name": "HBoxModel",
      "_view_count": null,
      "_view_module": "@jupyter-widgets/controls",
      "_view_module_version": "1.5.0",
      "_view_name": "HBoxView",
      "box_style": "",
      "children": [
       "IPY_MODEL_d05bf7962edb4ad2a53376eab66a7251",
       "IPY_MODEL_63780bd5e0a740419c093a1f1ff06761",
       "IPY_MODEL_2698ded49a7c42019afd6332ea7aae36"
      ],
      "layout": "IPY_MODEL_5b1cbeb40c014e3fb40da31297338f33"
     }
    },
    "d05bf7962edb4ad2a53376eab66a7251": {
     "model_module": "@jupyter-widgets/controls",
     "model_name": "HTMLModel",
     "model_module_version": "1.5.0",
     "state": {
      "_dom_classes": [],
      "_model_module": "@jupyter-widgets/controls",
      "_model_module_version": "1.5.0",
      "_model_name": "HTMLModel",
      "_view_count": null,
      "_view_module": "@jupyter-widgets/controls",
      "_view_module_version": "1.5.0",
      "_view_name": "HTMLView",
      "description": "",
      "description_tooltip": null,
      "layout": "IPY_MODEL_5aa86ba22a664cc297d8faeca41e4b4e",
      "placeholder": "​",
      "style": "IPY_MODEL_cb3b999e02494fcb8ea8ffa0c87c927d",
      "value": "100%"
     }
    },
    "63780bd5e0a740419c093a1f1ff06761": {
     "model_module": "@jupyter-widgets/controls",
     "model_name": "FloatProgressModel",
     "model_module_version": "1.5.0",
     "state": {
      "_dom_classes": [],
      "_model_module": "@jupyter-widgets/controls",
      "_model_module_version": "1.5.0",
      "_model_name": "FloatProgressModel",
      "_view_count": null,
      "_view_module": "@jupyter-widgets/controls",
      "_view_module_version": "1.5.0",
      "_view_name": "ProgressView",
      "bar_style": "success",
      "description": "",
      "description_tooltip": null,
      "layout": "IPY_MODEL_b18bc41cd5134e08bbd2423502502850",
      "max": 4000,
      "min": 0,
      "orientation": "horizontal",
      "style": "IPY_MODEL_22c58f460d8b4d7fb8bbc37039b8d635",
      "value": 4000
     }
    },
    "2698ded49a7c42019afd6332ea7aae36": {
     "model_module": "@jupyter-widgets/controls",
     "model_name": "HTMLModel",
     "model_module_version": "1.5.0",
     "state": {
      "_dom_classes": [],
      "_model_module": "@jupyter-widgets/controls",
      "_model_module_version": "1.5.0",
      "_model_name": "HTMLModel",
      "_view_count": null,
      "_view_module": "@jupyter-widgets/controls",
      "_view_module_version": "1.5.0",
      "_view_name": "HTMLView",
      "description": "",
      "description_tooltip": null,
      "layout": "IPY_MODEL_c43299d303f34911811263dbb79c2797",
      "placeholder": "​",
      "style": "IPY_MODEL_16d59f4e90f24b199f85f8fc210601ee",
      "value": " 4000/4000 [02:42&lt;00:00, 34.67it/s]"
     }
    },
    "5b1cbeb40c014e3fb40da31297338f33": {
     "model_module": "@jupyter-widgets/base",
     "model_name": "LayoutModel",
     "model_module_version": "1.2.0",
     "state": {
      "_model_module": "@jupyter-widgets/base",
      "_model_module_version": "1.2.0",
      "_model_name": "LayoutModel",
      "_view_count": null,
      "_view_module": "@jupyter-widgets/base",
      "_view_module_version": "1.2.0",
      "_view_name": "LayoutView",
      "align_content": null,
      "align_items": null,
      "align_self": null,
      "border": null,
      "bottom": null,
      "display": null,
      "flex": null,
      "flex_flow": null,
      "grid_area": null,
      "grid_auto_columns": null,
      "grid_auto_flow": null,
      "grid_auto_rows": null,
      "grid_column": null,
      "grid_gap": null,
      "grid_row": null,
      "grid_template_areas": null,
      "grid_template_columns": null,
      "grid_template_rows": null,
      "height": null,
      "justify_content": null,
      "justify_items": null,
      "left": null,
      "margin": null,
      "max_height": null,
      "max_width": null,
      "min_height": null,
      "min_width": null,
      "object_fit": null,
      "object_position": null,
      "order": null,
      "overflow": null,
      "overflow_x": null,
      "overflow_y": null,
      "padding": null,
      "right": null,
      "top": null,
      "visibility": null,
      "width": null
     }
    },
    "5aa86ba22a664cc297d8faeca41e4b4e": {
     "model_module": "@jupyter-widgets/base",
     "model_name": "LayoutModel",
     "model_module_version": "1.2.0",
     "state": {
      "_model_module": "@jupyter-widgets/base",
      "_model_module_version": "1.2.0",
      "_model_name": "LayoutModel",
      "_view_count": null,
      "_view_module": "@jupyter-widgets/base",
      "_view_module_version": "1.2.0",
      "_view_name": "LayoutView",
      "align_content": null,
      "align_items": null,
      "align_self": null,
      "border": null,
      "bottom": null,
      "display": null,
      "flex": null,
      "flex_flow": null,
      "grid_area": null,
      "grid_auto_columns": null,
      "grid_auto_flow": null,
      "grid_auto_rows": null,
      "grid_column": null,
      "grid_gap": null,
      "grid_row": null,
      "grid_template_areas": null,
      "grid_template_columns": null,
      "grid_template_rows": null,
      "height": null,
      "justify_content": null,
      "justify_items": null,
      "left": null,
      "margin": null,
      "max_height": null,
      "max_width": null,
      "min_height": null,
      "min_width": null,
      "object_fit": null,
      "object_position": null,
      "order": null,
      "overflow": null,
      "overflow_x": null,
      "overflow_y": null,
      "padding": null,
      "right": null,
      "top": null,
      "visibility": null,
      "width": null
     }
    },
    "cb3b999e02494fcb8ea8ffa0c87c927d": {
     "model_module": "@jupyter-widgets/controls",
     "model_name": "DescriptionStyleModel",
     "model_module_version": "1.5.0",
     "state": {
      "_model_module": "@jupyter-widgets/controls",
      "_model_module_version": "1.5.0",
      "_model_name": "DescriptionStyleModel",
      "_view_count": null,
      "_view_module": "@jupyter-widgets/base",
      "_view_module_version": "1.2.0",
      "_view_name": "StyleView",
      "description_width": ""
     }
    },
    "b18bc41cd5134e08bbd2423502502850": {
     "model_module": "@jupyter-widgets/base",
     "model_name": "LayoutModel",
     "model_module_version": "1.2.0",
     "state": {
      "_model_module": "@jupyter-widgets/base",
      "_model_module_version": "1.2.0",
      "_model_name": "LayoutModel",
      "_view_count": null,
      "_view_module": "@jupyter-widgets/base",
      "_view_module_version": "1.2.0",
      "_view_name": "LayoutView",
      "align_content": null,
      "align_items": null,
      "align_self": null,
      "border": null,
      "bottom": null,
      "display": null,
      "flex": null,
      "flex_flow": null,
      "grid_area": null,
      "grid_auto_columns": null,
      "grid_auto_flow": null,
      "grid_auto_rows": null,
      "grid_column": null,
      "grid_gap": null,
      "grid_row": null,
      "grid_template_areas": null,
      "grid_template_columns": null,
      "grid_template_rows": null,
      "height": null,
      "justify_content": null,
      "justify_items": null,
      "left": null,
      "margin": null,
      "max_height": null,
      "max_width": null,
      "min_height": null,
      "min_width": null,
      "object_fit": null,
      "object_position": null,
      "order": null,
      "overflow": null,
      "overflow_x": null,
      "overflow_y": null,
      "padding": null,
      "right": null,
      "top": null,
      "visibility": null,
      "width": null
     }
    },
    "22c58f460d8b4d7fb8bbc37039b8d635": {
     "model_module": "@jupyter-widgets/controls",
     "model_name": "ProgressStyleModel",
     "model_module_version": "1.5.0",
     "state": {
      "_model_module": "@jupyter-widgets/controls",
      "_model_module_version": "1.5.0",
      "_model_name": "ProgressStyleModel",
      "_view_count": null,
      "_view_module": "@jupyter-widgets/base",
      "_view_module_version": "1.2.0",
      "_view_name": "StyleView",
      "bar_color": null,
      "description_width": ""
     }
    },
    "c43299d303f34911811263dbb79c2797": {
     "model_module": "@jupyter-widgets/base",
     "model_name": "LayoutModel",
     "model_module_version": "1.2.0",
     "state": {
      "_model_module": "@jupyter-widgets/base",
      "_model_module_version": "1.2.0",
      "_model_name": "LayoutModel",
      "_view_count": null,
      "_view_module": "@jupyter-widgets/base",
      "_view_module_version": "1.2.0",
      "_view_name": "LayoutView",
      "align_content": null,
      "align_items": null,
      "align_self": null,
      "border": null,
      "bottom": null,
      "display": null,
      "flex": null,
      "flex_flow": null,
      "grid_area": null,
      "grid_auto_columns": null,
      "grid_auto_flow": null,
      "grid_auto_rows": null,
      "grid_column": null,
      "grid_gap": null,
      "grid_row": null,
      "grid_template_areas": null,
      "grid_template_columns": null,
      "grid_template_rows": null,
      "height": null,
      "justify_content": null,
      "justify_items": null,
      "left": null,
      "margin": null,
      "max_height": null,
      "max_width": null,
      "min_height": null,
      "min_width": null,
      "object_fit": null,
      "object_position": null,
      "order": null,
      "overflow": null,
      "overflow_x": null,
      "overflow_y": null,
      "padding": null,
      "right": null,
      "top": null,
      "visibility": null,
      "width": null
     }
    },
    "16d59f4e90f24b199f85f8fc210601ee": {
     "model_module": "@jupyter-widgets/controls",
     "model_name": "DescriptionStyleModel",
     "model_module_version": "1.5.0",
     "state": {
      "_model_module": "@jupyter-widgets/controls",
      "_model_module_version": "1.5.0",
      "_model_name": "DescriptionStyleModel",
      "_view_count": null,
      "_view_module": "@jupyter-widgets/base",
      "_view_module_version": "1.2.0",
      "_view_name": "StyleView",
      "description_width": ""
     }
    },
    "35622d84a0f647e68abc0eaca522825a": {
     "model_module": "@jupyter-widgets/controls",
     "model_name": "HBoxModel",
     "model_module_version": "1.5.0",
     "state": {
      "_dom_classes": [],
      "_model_module": "@jupyter-widgets/controls",
      "_model_module_version": "1.5.0",
      "_model_name": "HBoxModel",
      "_view_count": null,
      "_view_module": "@jupyter-widgets/controls",
      "_view_module_version": "1.5.0",
      "_view_name": "HBoxView",
      "box_style": "",
      "children": [
       "IPY_MODEL_14166386c7cf44369158e4659eea72cb",
       "IPY_MODEL_efcdf4449b6145d68d1b0b84f3e2fa71",
       "IPY_MODEL_0702f7b5fa924e7f8926aa8adc7ebef8"
      ],
      "layout": "IPY_MODEL_e66cf3b09635411b8f7cbf9ebc53e970"
     }
    },
    "14166386c7cf44369158e4659eea72cb": {
     "model_module": "@jupyter-widgets/controls",
     "model_name": "HTMLModel",
     "model_module_version": "1.5.0",
     "state": {
      "_dom_classes": [],
      "_model_module": "@jupyter-widgets/controls",
      "_model_module_version": "1.5.0",
      "_model_name": "HTMLModel",
      "_view_count": null,
      "_view_module": "@jupyter-widgets/controls",
      "_view_module_version": "1.5.0",
      "_view_name": "HTMLView",
      "description": "",
      "description_tooltip": null,
      "layout": "IPY_MODEL_e08786a67bec45d68f875aee172959e5",
      "placeholder": "​",
      "style": "IPY_MODEL_cb35a248dedd484d8c9fdaa8cc072b36",
      "value": "100%"
     }
    },
    "efcdf4449b6145d68d1b0b84f3e2fa71": {
     "model_module": "@jupyter-widgets/controls",
     "model_name": "FloatProgressModel",
     "model_module_version": "1.5.0",
     "state": {
      "_dom_classes": [],
      "_model_module": "@jupyter-widgets/controls",
      "_model_module_version": "1.5.0",
      "_model_name": "FloatProgressModel",
      "_view_count": null,
      "_view_module": "@jupyter-widgets/controls",
      "_view_module_version": "1.5.0",
      "_view_name": "ProgressView",
      "bar_style": "success",
      "description": "",
      "description_tooltip": null,
      "layout": "IPY_MODEL_70c0425709884b35bdbb943c3cd74bf4",
      "max": 4000,
      "min": 0,
      "orientation": "horizontal",
      "style": "IPY_MODEL_01f8adac8ec94da0b25ab07ab71602f1",
      "value": 4000
     }
    },
    "0702f7b5fa924e7f8926aa8adc7ebef8": {
     "model_module": "@jupyter-widgets/controls",
     "model_name": "HTMLModel",
     "model_module_version": "1.5.0",
     "state": {
      "_dom_classes": [],
      "_model_module": "@jupyter-widgets/controls",
      "_model_module_version": "1.5.0",
      "_model_name": "HTMLModel",
      "_view_count": null,
      "_view_module": "@jupyter-widgets/controls",
      "_view_module_version": "1.5.0",
      "_view_name": "HTMLView",
      "description": "",
      "description_tooltip": null,
      "layout": "IPY_MODEL_72409839b7864e95b253d51a1f1ca0e8",
      "placeholder": "​",
      "style": "IPY_MODEL_5360f0f254304a74b49981962cef8d91",
      "value": " 4000/4000 [02:07&lt;00:00, 35.83it/s]"
     }
    },
    "e66cf3b09635411b8f7cbf9ebc53e970": {
     "model_module": "@jupyter-widgets/base",
     "model_name": "LayoutModel",
     "model_module_version": "1.2.0",
     "state": {
      "_model_module": "@jupyter-widgets/base",
      "_model_module_version": "1.2.0",
      "_model_name": "LayoutModel",
      "_view_count": null,
      "_view_module": "@jupyter-widgets/base",
      "_view_module_version": "1.2.0",
      "_view_name": "LayoutView",
      "align_content": null,
      "align_items": null,
      "align_self": null,
      "border": null,
      "bottom": null,
      "display": null,
      "flex": null,
      "flex_flow": null,
      "grid_area": null,
      "grid_auto_columns": null,
      "grid_auto_flow": null,
      "grid_auto_rows": null,
      "grid_column": null,
      "grid_gap": null,
      "grid_row": null,
      "grid_template_areas": null,
      "grid_template_columns": null,
      "grid_template_rows": null,
      "height": null,
      "justify_content": null,
      "justify_items": null,
      "left": null,
      "margin": null,
      "max_height": null,
      "max_width": null,
      "min_height": null,
      "min_width": null,
      "object_fit": null,
      "object_position": null,
      "order": null,
      "overflow": null,
      "overflow_x": null,
      "overflow_y": null,
      "padding": null,
      "right": null,
      "top": null,
      "visibility": null,
      "width": null
     }
    },
    "e08786a67bec45d68f875aee172959e5": {
     "model_module": "@jupyter-widgets/base",
     "model_name": "LayoutModel",
     "model_module_version": "1.2.0",
     "state": {
      "_model_module": "@jupyter-widgets/base",
      "_model_module_version": "1.2.0",
      "_model_name": "LayoutModel",
      "_view_count": null,
      "_view_module": "@jupyter-widgets/base",
      "_view_module_version": "1.2.0",
      "_view_name": "LayoutView",
      "align_content": null,
      "align_items": null,
      "align_self": null,
      "border": null,
      "bottom": null,
      "display": null,
      "flex": null,
      "flex_flow": null,
      "grid_area": null,
      "grid_auto_columns": null,
      "grid_auto_flow": null,
      "grid_auto_rows": null,
      "grid_column": null,
      "grid_gap": null,
      "grid_row": null,
      "grid_template_areas": null,
      "grid_template_columns": null,
      "grid_template_rows": null,
      "height": null,
      "justify_content": null,
      "justify_items": null,
      "left": null,
      "margin": null,
      "max_height": null,
      "max_width": null,
      "min_height": null,
      "min_width": null,
      "object_fit": null,
      "object_position": null,
      "order": null,
      "overflow": null,
      "overflow_x": null,
      "overflow_y": null,
      "padding": null,
      "right": null,
      "top": null,
      "visibility": null,
      "width": null
     }
    },
    "cb35a248dedd484d8c9fdaa8cc072b36": {
     "model_module": "@jupyter-widgets/controls",
     "model_name": "DescriptionStyleModel",
     "model_module_version": "1.5.0",
     "state": {
      "_model_module": "@jupyter-widgets/controls",
      "_model_module_version": "1.5.0",
      "_model_name": "DescriptionStyleModel",
      "_view_count": null,
      "_view_module": "@jupyter-widgets/base",
      "_view_module_version": "1.2.0",
      "_view_name": "StyleView",
      "description_width": ""
     }
    },
    "70c0425709884b35bdbb943c3cd74bf4": {
     "model_module": "@jupyter-widgets/base",
     "model_name": "LayoutModel",
     "model_module_version": "1.2.0",
     "state": {
      "_model_module": "@jupyter-widgets/base",
      "_model_module_version": "1.2.0",
      "_model_name": "LayoutModel",
      "_view_count": null,
      "_view_module": "@jupyter-widgets/base",
      "_view_module_version": "1.2.0",
      "_view_name": "LayoutView",
      "align_content": null,
      "align_items": null,
      "align_self": null,
      "border": null,
      "bottom": null,
      "display": null,
      "flex": null,
      "flex_flow": null,
      "grid_area": null,
      "grid_auto_columns": null,
      "grid_auto_flow": null,
      "grid_auto_rows": null,
      "grid_column": null,
      "grid_gap": null,
      "grid_row": null,
      "grid_template_areas": null,
      "grid_template_columns": null,
      "grid_template_rows": null,
      "height": null,
      "justify_content": null,
      "justify_items": null,
      "left": null,
      "margin": null,
      "max_height": null,
      "max_width": null,
      "min_height": null,
      "min_width": null,
      "object_fit": null,
      "object_position": null,
      "order": null,
      "overflow": null,
      "overflow_x": null,
      "overflow_y": null,
      "padding": null,
      "right": null,
      "top": null,
      "visibility": null,
      "width": null
     }
    },
    "01f8adac8ec94da0b25ab07ab71602f1": {
     "model_module": "@jupyter-widgets/controls",
     "model_name": "ProgressStyleModel",
     "model_module_version": "1.5.0",
     "state": {
      "_model_module": "@jupyter-widgets/controls",
      "_model_module_version": "1.5.0",
      "_model_name": "ProgressStyleModel",
      "_view_count": null,
      "_view_module": "@jupyter-widgets/base",
      "_view_module_version": "1.2.0",
      "_view_name": "StyleView",
      "bar_color": null,
      "description_width": ""
     }
    },
    "72409839b7864e95b253d51a1f1ca0e8": {
     "model_module": "@jupyter-widgets/base",
     "model_name": "LayoutModel",
     "model_module_version": "1.2.0",
     "state": {
      "_model_module": "@jupyter-widgets/base",
      "_model_module_version": "1.2.0",
      "_model_name": "LayoutModel",
      "_view_count": null,
      "_view_module": "@jupyter-widgets/base",
      "_view_module_version": "1.2.0",
      "_view_name": "LayoutView",
      "align_content": null,
      "align_items": null,
      "align_self": null,
      "border": null,
      "bottom": null,
      "display": null,
      "flex": null,
      "flex_flow": null,
      "grid_area": null,
      "grid_auto_columns": null,
      "grid_auto_flow": null,
      "grid_auto_rows": null,
      "grid_column": null,
      "grid_gap": null,
      "grid_row": null,
      "grid_template_areas": null,
      "grid_template_columns": null,
      "grid_template_rows": null,
      "height": null,
      "justify_content": null,
      "justify_items": null,
      "left": null,
      "margin": null,
      "max_height": null,
      "max_width": null,
      "min_height": null,
      "min_width": null,
      "object_fit": null,
      "object_position": null,
      "order": null,
      "overflow": null,
      "overflow_x": null,
      "overflow_y": null,
      "padding": null,
      "right": null,
      "top": null,
      "visibility": null,
      "width": null
     }
    },
    "5360f0f254304a74b49981962cef8d91": {
     "model_module": "@jupyter-widgets/controls",
     "model_name": "DescriptionStyleModel",
     "model_module_version": "1.5.0",
     "state": {
      "_model_module": "@jupyter-widgets/controls",
      "_model_module_version": "1.5.0",
      "_model_name": "DescriptionStyleModel",
      "_view_count": null,
      "_view_module": "@jupyter-widgets/base",
      "_view_module_version": "1.2.0",
      "_view_name": "StyleView",
      "description_width": ""
     }
    }
   }
  }
 },
 "nbformat": 4,
 "nbformat_minor": 0
}
