{
  "nbformat": 4,
  "nbformat_minor": 0,
  "metadata": {
    "colab": {
      "provenance": []
    },
    "kernelspec": {
      "name": "python3",
      "display_name": "Python 3"
    },
    "language_info": {
      "name": "python"
    }
  },
  "cells": [
    {
      "cell_type": "code",
      "source": [
        "!pip install contractions"
      ],
      "metadata": {
        "colab": {
          "base_uri": "https://localhost:8080/"
        },
        "id": "N0hVJ-_bQs9F",
        "outputId": "9f0c26a2-760e-445d-e2cd-10ba4d29c26f"
      },
      "execution_count": 2,
      "outputs": [
        {
          "output_type": "stream",
          "name": "stdout",
          "text": [
            "Looking in indexes: https://pypi.org/simple, https://us-python.pkg.dev/colab-wheels/public/simple/\n",
            "Requirement already satisfied: contractions in /usr/local/lib/python3.9/dist-packages (0.1.73)\n",
            "Requirement already satisfied: textsearch>=0.0.21 in /usr/local/lib/python3.9/dist-packages (from contractions) (0.0.24)\n",
            "Requirement already satisfied: anyascii in /usr/local/lib/python3.9/dist-packages (from textsearch>=0.0.21->contractions) (0.3.1)\n",
            "Requirement already satisfied: pyahocorasick in /usr/local/lib/python3.9/dist-packages (from textsearch>=0.0.21->contractions) (2.0.0)\n"
          ]
        }
      ]
    },
    {
      "cell_type": "code",
      "source": [
        "import pandas as pd\n",
        "import matplotlib.pyplot as plt\n",
        "import contractions\n",
        "import nltk\n",
        "import string\n",
        "import seaborn as sns\n",
        "import numpy as np\n",
        "from collections import Counter\n",
        "nltk.download('punkt')\n",
        "nltk.download('stopwords')\n",
        "nltk.download('averaged_perceptron_tagger')\n",
        "nltk.download('wordnet')\n",
        "nltk.download('omw-1.4')"
      ],
      "metadata": {
        "colab": {
          "base_uri": "https://localhost:8080/"
        },
        "id": "Wge3XkbAMB8R",
        "outputId": "cffe76f6-7654-49fa-c650-19faf7692523"
      },
      "execution_count": 60,
      "outputs": [
        {
          "output_type": "stream",
          "name": "stderr",
          "text": [
            "[nltk_data] Downloading package punkt to /root/nltk_data...\n",
            "[nltk_data]   Package punkt is already up-to-date!\n",
            "[nltk_data] Downloading package stopwords to /root/nltk_data...\n",
            "[nltk_data]   Package stopwords is already up-to-date!\n",
            "[nltk_data] Downloading package averaged_perceptron_tagger to\n",
            "[nltk_data]     /root/nltk_data...\n",
            "[nltk_data]   Package averaged_perceptron_tagger is already up-to-\n",
            "[nltk_data]       date!\n",
            "[nltk_data] Downloading package wordnet to /root/nltk_data...\n",
            "[nltk_data]   Package wordnet is already up-to-date!\n",
            "[nltk_data] Downloading package omw-1.4 to /root/nltk_data...\n",
            "[nltk_data]   Package omw-1.4 is already up-to-date!\n"
          ]
        },
        {
          "output_type": "execute_result",
          "data": {
            "text/plain": [
              "True"
            ]
          },
          "metadata": {},
          "execution_count": 60
        }
      ]
    },
    {
      "cell_type": "code",
      "execution_count": 4,
      "metadata": {
        "id": "ussHBl6FLKRS"
      },
      "outputs": [],
      "source": [
        "training_set = pd.read_json('./data/train_set.json')\n",
        "test_set = pd.read_json('./data/test_set.json')\n"
      ]
    },
    {
      "cell_type": "code",
      "source": [
        "training_set.head(5)"
      ],
      "metadata": {
        "colab": {
          "base_uri": "https://localhost:8080/",
          "height": 206
        },
        "id": "BG2aqBtFMCF6",
        "outputId": "293b5308-04a0-4896-9bfb-b5ea433b3673"
      },
      "execution_count": 5,
      "outputs": [
        {
          "output_type": "execute_result",
          "data": {
            "text/plain": [
              "   id                                               text  label\n",
              "0   0  Remains dating to the 5th century were found i...      1\n",
              "1   1  Professional Identification is a type of socia...      1\n",
              "2   2  A magistrate has refused a media ban on the tr...      1\n",
              "3   3  The Conservation Commons is the expression of ...      1\n",
              "4   4  Myer is holding a 75 per cent of designer labe...      0"
            ],
            "text/html": [
              "\n",
              "  <div id=\"df-e3a6fbc6-b4ba-4087-b970-4c6ff205dd40\">\n",
              "    <div class=\"colab-df-container\">\n",
              "      <div>\n",
              "<style scoped>\n",
              "    .dataframe tbody tr th:only-of-type {\n",
              "        vertical-align: middle;\n",
              "    }\n",
              "\n",
              "    .dataframe tbody tr th {\n",
              "        vertical-align: top;\n",
              "    }\n",
              "\n",
              "    .dataframe thead th {\n",
              "        text-align: right;\n",
              "    }\n",
              "</style>\n",
              "<table border=\"1\" class=\"dataframe\">\n",
              "  <thead>\n",
              "    <tr style=\"text-align: right;\">\n",
              "      <th></th>\n",
              "      <th>id</th>\n",
              "      <th>text</th>\n",
              "      <th>label</th>\n",
              "    </tr>\n",
              "  </thead>\n",
              "  <tbody>\n",
              "    <tr>\n",
              "      <th>0</th>\n",
              "      <td>0</td>\n",
              "      <td>Remains dating to the 5th century were found i...</td>\n",
              "      <td>1</td>\n",
              "    </tr>\n",
              "    <tr>\n",
              "      <th>1</th>\n",
              "      <td>1</td>\n",
              "      <td>Professional Identification is a type of socia...</td>\n",
              "      <td>1</td>\n",
              "    </tr>\n",
              "    <tr>\n",
              "      <th>2</th>\n",
              "      <td>2</td>\n",
              "      <td>A magistrate has refused a media ban on the tr...</td>\n",
              "      <td>1</td>\n",
              "    </tr>\n",
              "    <tr>\n",
              "      <th>3</th>\n",
              "      <td>3</td>\n",
              "      <td>The Conservation Commons is the expression of ...</td>\n",
              "      <td>1</td>\n",
              "    </tr>\n",
              "    <tr>\n",
              "      <th>4</th>\n",
              "      <td>4</td>\n",
              "      <td>Myer is holding a 75 per cent of designer labe...</td>\n",
              "      <td>0</td>\n",
              "    </tr>\n",
              "  </tbody>\n",
              "</table>\n",
              "</div>\n",
              "      <button class=\"colab-df-convert\" onclick=\"convertToInteractive('df-e3a6fbc6-b4ba-4087-b970-4c6ff205dd40')\"\n",
              "              title=\"Convert this dataframe to an interactive table.\"\n",
              "              style=\"display:none;\">\n",
              "        \n",
              "  <svg xmlns=\"http://www.w3.org/2000/svg\" height=\"24px\"viewBox=\"0 0 24 24\"\n",
              "       width=\"24px\">\n",
              "    <path d=\"M0 0h24v24H0V0z\" fill=\"none\"/>\n",
              "    <path d=\"M18.56 5.44l.94 2.06.94-2.06 2.06-.94-2.06-.94-.94-2.06-.94 2.06-2.06.94zm-11 1L8.5 8.5l.94-2.06 2.06-.94-2.06-.94L8.5 2.5l-.94 2.06-2.06.94zm10 10l.94 2.06.94-2.06 2.06-.94-2.06-.94-.94-2.06-.94 2.06-2.06.94z\"/><path d=\"M17.41 7.96l-1.37-1.37c-.4-.4-.92-.59-1.43-.59-.52 0-1.04.2-1.43.59L10.3 9.45l-7.72 7.72c-.78.78-.78 2.05 0 2.83L4 21.41c.39.39.9.59 1.41.59.51 0 1.02-.2 1.41-.59l7.78-7.78 2.81-2.81c.8-.78.8-2.07 0-2.86zM5.41 20L4 18.59l7.72-7.72 1.47 1.35L5.41 20z\"/>\n",
              "  </svg>\n",
              "      </button>\n",
              "      \n",
              "  <style>\n",
              "    .colab-df-container {\n",
              "      display:flex;\n",
              "      flex-wrap:wrap;\n",
              "      gap: 12px;\n",
              "    }\n",
              "\n",
              "    .colab-df-convert {\n",
              "      background-color: #E8F0FE;\n",
              "      border: none;\n",
              "      border-radius: 50%;\n",
              "      cursor: pointer;\n",
              "      display: none;\n",
              "      fill: #1967D2;\n",
              "      height: 32px;\n",
              "      padding: 0 0 0 0;\n",
              "      width: 32px;\n",
              "    }\n",
              "\n",
              "    .colab-df-convert:hover {\n",
              "      background-color: #E2EBFA;\n",
              "      box-shadow: 0px 1px 2px rgba(60, 64, 67, 0.3), 0px 1px 3px 1px rgba(60, 64, 67, 0.15);\n",
              "      fill: #174EA6;\n",
              "    }\n",
              "\n",
              "    [theme=dark] .colab-df-convert {\n",
              "      background-color: #3B4455;\n",
              "      fill: #D2E3FC;\n",
              "    }\n",
              "\n",
              "    [theme=dark] .colab-df-convert:hover {\n",
              "      background-color: #434B5C;\n",
              "      box-shadow: 0px 1px 3px 1px rgba(0, 0, 0, 0.15);\n",
              "      filter: drop-shadow(0px 1px 2px rgba(0, 0, 0, 0.3));\n",
              "      fill: #FFFFFF;\n",
              "    }\n",
              "  </style>\n",
              "\n",
              "      <script>\n",
              "        const buttonEl =\n",
              "          document.querySelector('#df-e3a6fbc6-b4ba-4087-b970-4c6ff205dd40 button.colab-df-convert');\n",
              "        buttonEl.style.display =\n",
              "          google.colab.kernel.accessAllowed ? 'block' : 'none';\n",
              "\n",
              "        async function convertToInteractive(key) {\n",
              "          const element = document.querySelector('#df-e3a6fbc6-b4ba-4087-b970-4c6ff205dd40');\n",
              "          const dataTable =\n",
              "            await google.colab.kernel.invokeFunction('convertToInteractive',\n",
              "                                                     [key], {});\n",
              "          if (!dataTable) return;\n",
              "\n",
              "          const docLinkHtml = 'Like what you see? Visit the ' +\n",
              "            '<a target=\"_blank\" href=https://colab.research.google.com/notebooks/data_table.ipynb>data table notebook</a>'\n",
              "            + ' to learn more about interactive tables.';\n",
              "          element.innerHTML = '';\n",
              "          dataTable['output_type'] = 'display_data';\n",
              "          await google.colab.output.renderOutput(dataTable, element);\n",
              "          const docLink = document.createElement('div');\n",
              "          docLink.innerHTML = docLinkHtml;\n",
              "          element.appendChild(docLink);\n",
              "        }\n",
              "      </script>\n",
              "    </div>\n",
              "  </div>\n",
              "  "
            ]
          },
          "metadata": {},
          "execution_count": 5
        }
      ]
    },
    {
      "cell_type": "code",
      "source": [
        "test_set.head(5)"
      ],
      "metadata": {
        "colab": {
          "base_uri": "https://localhost:8080/",
          "height": 206
        },
        "id": "A0YuRQosMd-J",
        "outputId": "93cd7b24-35c7-49e6-91dd-51382e37469b"
      },
      "execution_count": 6,
      "outputs": [
        {
          "output_type": "execute_result",
          "data": {
            "text/plain": [
              "   id                                               text\n",
              "0   0  David Cameron revealed he and his wife Samanth...\n",
              "1   1  David Cameron appeared to forget which footbal...\n",
              "2   2  Ebola tests for a senior doctor has come back ...\n",
              "3   3  Celebrity chef's Fat Duck named eighth best re...\n",
              "4   4  Navinder Singh Sarao , 36 , is accused of maki..."
            ],
            "text/html": [
              "\n",
              "  <div id=\"df-b51fc4df-58e1-4003-9aa7-ea208c134862\">\n",
              "    <div class=\"colab-df-container\">\n",
              "      <div>\n",
              "<style scoped>\n",
              "    .dataframe tbody tr th:only-of-type {\n",
              "        vertical-align: middle;\n",
              "    }\n",
              "\n",
              "    .dataframe tbody tr th {\n",
              "        vertical-align: top;\n",
              "    }\n",
              "\n",
              "    .dataframe thead th {\n",
              "        text-align: right;\n",
              "    }\n",
              "</style>\n",
              "<table border=\"1\" class=\"dataframe\">\n",
              "  <thead>\n",
              "    <tr style=\"text-align: right;\">\n",
              "      <th></th>\n",
              "      <th>id</th>\n",
              "      <th>text</th>\n",
              "    </tr>\n",
              "  </thead>\n",
              "  <tbody>\n",
              "    <tr>\n",
              "      <th>0</th>\n",
              "      <td>0</td>\n",
              "      <td>David Cameron revealed he and his wife Samanth...</td>\n",
              "    </tr>\n",
              "    <tr>\n",
              "      <th>1</th>\n",
              "      <td>1</td>\n",
              "      <td>David Cameron appeared to forget which footbal...</td>\n",
              "    </tr>\n",
              "    <tr>\n",
              "      <th>2</th>\n",
              "      <td>2</td>\n",
              "      <td>Ebola tests for a senior doctor has come back ...</td>\n",
              "    </tr>\n",
              "    <tr>\n",
              "      <th>3</th>\n",
              "      <td>3</td>\n",
              "      <td>Celebrity chef's Fat Duck named eighth best re...</td>\n",
              "    </tr>\n",
              "    <tr>\n",
              "      <th>4</th>\n",
              "      <td>4</td>\n",
              "      <td>Navinder Singh Sarao , 36 , is accused of maki...</td>\n",
              "    </tr>\n",
              "  </tbody>\n",
              "</table>\n",
              "</div>\n",
              "      <button class=\"colab-df-convert\" onclick=\"convertToInteractive('df-b51fc4df-58e1-4003-9aa7-ea208c134862')\"\n",
              "              title=\"Convert this dataframe to an interactive table.\"\n",
              "              style=\"display:none;\">\n",
              "        \n",
              "  <svg xmlns=\"http://www.w3.org/2000/svg\" height=\"24px\"viewBox=\"0 0 24 24\"\n",
              "       width=\"24px\">\n",
              "    <path d=\"M0 0h24v24H0V0z\" fill=\"none\"/>\n",
              "    <path d=\"M18.56 5.44l.94 2.06.94-2.06 2.06-.94-2.06-.94-.94-2.06-.94 2.06-2.06.94zm-11 1L8.5 8.5l.94-2.06 2.06-.94-2.06-.94L8.5 2.5l-.94 2.06-2.06.94zm10 10l.94 2.06.94-2.06 2.06-.94-2.06-.94-.94-2.06-.94 2.06-2.06.94z\"/><path d=\"M17.41 7.96l-1.37-1.37c-.4-.4-.92-.59-1.43-.59-.52 0-1.04.2-1.43.59L10.3 9.45l-7.72 7.72c-.78.78-.78 2.05 0 2.83L4 21.41c.39.39.9.59 1.41.59.51 0 1.02-.2 1.41-.59l7.78-7.78 2.81-2.81c.8-.78.8-2.07 0-2.86zM5.41 20L4 18.59l7.72-7.72 1.47 1.35L5.41 20z\"/>\n",
              "  </svg>\n",
              "      </button>\n",
              "      \n",
              "  <style>\n",
              "    .colab-df-container {\n",
              "      display:flex;\n",
              "      flex-wrap:wrap;\n",
              "      gap: 12px;\n",
              "    }\n",
              "\n",
              "    .colab-df-convert {\n",
              "      background-color: #E8F0FE;\n",
              "      border: none;\n",
              "      border-radius: 50%;\n",
              "      cursor: pointer;\n",
              "      display: none;\n",
              "      fill: #1967D2;\n",
              "      height: 32px;\n",
              "      padding: 0 0 0 0;\n",
              "      width: 32px;\n",
              "    }\n",
              "\n",
              "    .colab-df-convert:hover {\n",
              "      background-color: #E2EBFA;\n",
              "      box-shadow: 0px 1px 2px rgba(60, 64, 67, 0.3), 0px 1px 3px 1px rgba(60, 64, 67, 0.15);\n",
              "      fill: #174EA6;\n",
              "    }\n",
              "\n",
              "    [theme=dark] .colab-df-convert {\n",
              "      background-color: #3B4455;\n",
              "      fill: #D2E3FC;\n",
              "    }\n",
              "\n",
              "    [theme=dark] .colab-df-convert:hover {\n",
              "      background-color: #434B5C;\n",
              "      box-shadow: 0px 1px 3px 1px rgba(0, 0, 0, 0.15);\n",
              "      filter: drop-shadow(0px 1px 2px rgba(0, 0, 0, 0.3));\n",
              "      fill: #FFFFFF;\n",
              "    }\n",
              "  </style>\n",
              "\n",
              "      <script>\n",
              "        const buttonEl =\n",
              "          document.querySelector('#df-b51fc4df-58e1-4003-9aa7-ea208c134862 button.colab-df-convert');\n",
              "        buttonEl.style.display =\n",
              "          google.colab.kernel.accessAllowed ? 'block' : 'none';\n",
              "\n",
              "        async function convertToInteractive(key) {\n",
              "          const element = document.querySelector('#df-b51fc4df-58e1-4003-9aa7-ea208c134862');\n",
              "          const dataTable =\n",
              "            await google.colab.kernel.invokeFunction('convertToInteractive',\n",
              "                                                     [key], {});\n",
              "          if (!dataTable) return;\n",
              "\n",
              "          const docLinkHtml = 'Like what you see? Visit the ' +\n",
              "            '<a target=\"_blank\" href=https://colab.research.google.com/notebooks/data_table.ipynb>data table notebook</a>'\n",
              "            + ' to learn more about interactive tables.';\n",
              "          element.innerHTML = '';\n",
              "          dataTable['output_type'] = 'display_data';\n",
              "          await google.colab.output.renderOutput(dataTable, element);\n",
              "          const docLink = document.createElement('div');\n",
              "          docLink.innerHTML = docLinkHtml;\n",
              "          element.appendChild(docLink);\n",
              "        }\n",
              "      </script>\n",
              "    </div>\n",
              "  </div>\n",
              "  "
            ]
          },
          "metadata": {},
          "execution_count": 6
        }
      ]
    },
    {
      "cell_type": "code",
      "source": [
        "ta = training_set.copy() # training text analyse\n"
      ],
      "metadata": {
        "id": "HoqvGvM_Mhbx"
      },
      "execution_count": 7,
      "outputs": []
    },
    {
      "cell_type": "markdown",
      "source": [
        "## label distribution"
      ],
      "metadata": {
        "id": "RMK2hOOseC2x"
      }
    },
    {
      "cell_type": "code",
      "source": [
        "ta['label'].value_counts().plot.pie()\n",
        "plt.show()"
      ],
      "metadata": {
        "colab": {
          "base_uri": "https://localhost:8080/",
          "height": 248
        },
        "id": "2XpOCWK9Nj-A",
        "outputId": "5561960d-e28e-4688-b635-8548689261a5"
      },
      "execution_count": 8,
      "outputs": [
        {
          "output_type": "display_data",
          "data": {
            "text/plain": [
              "<Figure size 432x288 with 1 Axes>"
            ],
            "image/png": "[encoded data removed]"
          },
          "metadata": {}
        }
      ]
    },
    {
      "cell_type": "markdown",
      "source": [
        "## text length"
      ],
      "metadata": {
        "id": "nNm6Ig5TeHd2"
      }
    },
    {
      "cell_type": "code",
      "source": [
        "ta['no_contract'] = ta['text'].apply(lambda x: contractions.fix(x))\n",
        "ta['tokenized'] = ta['no_contract'].apply(nltk.word_tokenize)"
      ],
      "metadata": {
        "id": "EKbg4GT6PzDf"
      },
      "execution_count": 9,
      "outputs": []
    },
    {
      "cell_type": "code",
      "source": [
        "punc = string.punctuation\n",
        "ta['no_punc'] = ta['tokenized'].apply(lambda x: [word for word in x if word not in punc])\n",
        "ta['punc'] = ta['tokenized'].apply(lambda x: [word for word in x if word in punc])\n",
        "ta['lower'] = ta['no_punc'].apply(lambda x: [word.lower() for word in x])\n",
        "\n",
        "stop_words = set(nltk.corpus.stopwords.words('english'))\n",
        "ta['stopwords_removed'] = ta['lower'].apply(lambda x: [word for word in x if word not in stop_words])"
      ],
      "metadata": {
        "id": "qTlSs6vdU3JD"
      },
      "execution_count": 41,
      "outputs": []
    },
    {
      "cell_type": "code",
      "source": [
        "ta['with_stop_word_count'] = ta['lower'].apply(len)\n",
        "ta['with_stop_word_count'].plot.hist()\n",
        "plt.show()\n",
        "ta['with_stop_word_count'].mean(), ta['with_stop_word_count'].max()"
      ],
      "metadata": {
        "colab": {
          "base_uri": "https://localhost:8080/",
          "height": 282
        },
        "id": "k6Z39NlhMhUQ",
        "outputId": "795cb005-7600-46e8-e1a1-52b8e9162644"
      },
      "execution_count": 42,
      "outputs": [
        {
          "output_type": "display_data",
          "data": {
            "text/plain": [
              "<Figure size 432x288 with 1 Axes>"
            ],
            "image/png": "[encoded data removed]"
          },
          "metadata": {
            "needs_background": "light"
          }
        },
        {
          "output_type": "execute_result",
          "data": {
            "text/plain": [
              "(97.62325, 521)"
            ]
          },
          "metadata": {},
          "execution_count": 42
        }
      ]
    },
    {
      "cell_type": "code",
      "source": [
        "ta['without_stop_word_count'] = ta['stopwords_removed'].apply(len)\n",
        "ta['without_stop_word_count'].plot.hist()\n",
        "plt.show()\n",
        "ta['without_stop_word_count'].mean(), ta['without_stop_word_count'].max()"
      ],
      "metadata": {
        "colab": {
          "base_uri": "https://localhost:8080/",
          "height": 282
        },
        "id": "X3SyLGB0O70h",
        "outputId": "2df31cd6-80d0-4467-c098-5920a523a2b1"
      },
      "execution_count": 43,
      "outputs": [
        {
          "output_type": "display_data",
          "data": {
            "text/plain": [
              "<Figure size 432x288 with 1 Axes>"
            ],
            "image/png": "[encoded data removed]"
          },
          "metadata": {
            "needs_background": "light"
          }
        },
        {
          "output_type": "execute_result",
          "data": {
            "text/plain": [
              "(59.94875, 393)"
            ]
          },
          "metadata": {},
          "execution_count": 43
        }
      ]
    },
    {
      "cell_type": "code",
      "source": [
        "ta['punc_count'] = ta['punc'].apply(len)\n",
        "ta['punc_count'].plot.hist()\n",
        "plt.show()\n",
        "ta['punc_count'].mean(), ta['punc_count'].max()"
      ],
      "metadata": {
        "colab": {
          "base_uri": "https://localhost:8080/",
          "height": 282
        },
        "id": "Pxjr0QZQXAG7",
        "outputId": "bddee9a3-1606-4fc8-cab6-16a68fb5fa19"
      },
      "execution_count": 44,
      "outputs": [
        {
          "output_type": "display_data",
          "data": {
            "text/plain": [
              "<Figure size 432x288 with 1 Axes>"
            ],
            "image/png": "[encoded data removed]"
          },
          "metadata": {
            "needs_background": "light"
          }
        },
        {
          "output_type": "execute_result",
          "data": {
            "text/plain": [
              "(12.53925, 168)"
            ]
          },
          "metadata": {},
          "execution_count": 44
        }
      ]
    },
    {
      "cell_type": "code",
      "source": [
        "correlation = ta[['label', 'with_stop_word_count', 'without_stop_word_count', 'punc_count']].corr()\n",
        "mask = np.zeros_like(correlation, dtype=bool)\n",
        "mask[np.triu_indices_from(mask)] = True\n",
        "sns.heatmap(correlation, cmap='coolwarm', annot=True, linewidths=10, vmin=-1.5, mask=mask)"
      ],
      "metadata": {
        "colab": {
          "base_uri": "https://localhost:8080/",
          "height": 399
        },
        "id": "DdLCjwyteAGF",
        "outputId": "e7fb75ca-3c0d-4f5c-ea61-d2b39080018f"
      },
      "execution_count": 45,
      "outputs": [
        {
          "output_type": "execute_result",
          "data": {
            "text/plain": [
              "<AxesSubplot:>"
            ]
          },
          "metadata": {},
          "execution_count": 45
        },
        {
          "output_type": "display_data",
          "data": {
            "text/plain": [
              "<Figure size 432x288 with 2 Axes>"
            ],
            "image/png": "[encoded data removed]"
          },
          "metadata": {
            "needs_background": "light"
          }
        }
      ]
    },
    {
      "cell_type": "markdown",
      "source": [
        "## word frequency"
      ],
      "metadata": {
        "id": "167ZSjjIfkJ1"
      }
    },
    {
      "cell_type": "code",
      "source": [
        "ta['pos_tags'] = ta['stopwords_removed'].apply(nltk.tag.pos_tag)\n",
        "def get_wordnet_pos(tag):\n",
        "    if tag.startswith('J'):\n",
        "        return nltk.corpus.wordnet.ADJ\n",
        "    elif tag.startswith('V'):\n",
        "        return nltk.corpus.wordnet.VERB\n",
        "    elif tag.startswith('N'):\n",
        "        return nltk.corpus.wordnet.NOUN\n",
        "    elif tag.startswith('R'):\n",
        "        return nltk.corpus.wordnet.ADV\n",
        "    else:\n",
        "        return nltk.corpus.wordnet.NOUN\n",
        "ta['wordnet_pos'] = ta['pos_tags'].apply(lambda x: [(word, get_wordnet_pos(pos_tag)) for (word, pos_tag) in x])\n",
        "wnl = nltk.stem.WordNetLemmatizer()\n",
        "ta['lemmatized'] = ta['wordnet_pos'].apply(lambda x: [wnl.lemmatize(word, tag) for word, tag in x])"
      ],
      "metadata": {
        "id": "7fTiQTX0b6rX"
      },
      "execution_count": 46,
      "outputs": []
    },
    {
      "cell_type": "code",
      "source": [
        "words = ta['lemmatized']\n",
        "allwords = []\n",
        "for wordlist in words:\n",
        "    allwords += wordlist\n",
        "print(allwords[:100])"
      ],
      "metadata": {
        "colab": {
          "base_uri": "https://localhost:8080/"
        },
        "id": "wErsQT8NbkiQ",
        "outputId": "a144806e-e9d9-47fe-c006-2a9d4608d00e"
      },
      "execution_count": 47,
      "outputs": [
        {
          "output_type": "stream",
          "name": "stdout",
          "text": [
            "['remains', 'date', '5th', 'century', 'find', 'tomb', 'hwangnam-dong', 'show', 'man', \"'s\", 'bone', 'top', 'woman', \"'s\", 'bury', 'jewellery', 'expert', 'believe', 'silla', 'dynasty-era', 'tomb', 'build', 'noblewoman', 'lover', 'bodyguard', 'sacrifice', 'bury', 'top', \"'s\", 'suggestion', 'set-up', 'may', 'design', 'show', 'two', 'people', 'sex', 'silla', 'know', 'explicit', 'pottery', 'professional', 'identification', 'type', 'social', 'identification', 'sense', 'oneness', 'individual', 'profession', 'e.g', 'law', 'medicine', 'degree', 'individual', 'define', 'profession', 'member', 'professional', 'identity', 'consist', 'individual', \"'s\", 'alignment', 'role', 'responsibility', 'value', 'ethical', 'standard', 'consistent', 'practice', 'accept', 'specific', 'profession', 'source', 'professional', 'identification', 'researcher', 'find', 'desire', 'quality', 'rather', 'profit', 'associate', 'professional', 'identification', 'organization', 'tend', 'concerned', 'efficiency', 'profitability', 'whereas', 'profession', 'care', 'mainly', 'provide', 'highest-quality', 'service', 'define', 'profession']\n"
          ]
        }
      ]
    },
    {
      "cell_type": "code",
      "source": [
        "mostcommon_small = nltk.probability.FreqDist(allwords).most_common(25)\n",
        "x, y = zip(*mostcommon_small)\n",
        "plt.figure(figsize=(10,6))\n",
        "plt.bar(x, y)\n",
        "plt.xlabel('Words', fontsize=10)\n",
        "plt.ylabel('Frequency of Words', fontsize=10)\n",
        "plt.yticks(fontsize=8)\n",
        "plt.xticks(rotation=60, fontsize=8)\n",
        "plt.title('Frequency of 25 Most Common Words', fontsize=12)\n",
        "plt.show()"
      ],
      "metadata": {
        "colab": {
          "base_uri": "https://localhost:8080/",
          "height": 433
        },
        "id": "vSUv1sKtdjRO",
        "outputId": "4b636f77-d4a7-43d4-f2b7-89ca9bc017d9"
      },
      "execution_count": 50,
      "outputs": [
        {
          "output_type": "display_data",
          "data": {
            "text/plain": [
              "<Figure size 720x432 with 1 Axes>"
            ],
            "image/png": "[encoded data removed]"
          },
          "metadata": {
            "needs_background": "light"
          }
        }
      ]
    },
    {
      "cell_type": "code",
      "source": [
        "words = ta[ta['label']==1]['lemmatized']\n",
        "allwords_1 = []\n",
        "for wordlist in words:\n",
        "    allwords_1 += wordlist\n",
        "print(allwords_1[:100])"
      ],
      "metadata": {
        "colab": {
          "base_uri": "https://localhost:8080/"
        },
        "id": "z90y2O3Gg9NP",
        "outputId": "01f95e26-88f7-4d6b-9a9f-a6307eee9617"
      },
      "execution_count": 56,
      "outputs": [
        {
          "output_type": "stream",
          "name": "stdout",
          "text": [
            "['remains', 'date', '5th', 'century', 'find', 'tomb', 'hwangnam-dong', 'show', 'man', \"'s\", 'bone', 'top', 'woman', \"'s\", 'bury', 'jewellery', 'expert', 'believe', 'silla', 'dynasty-era', 'tomb', 'build', 'noblewoman', 'lover', 'bodyguard', 'sacrifice', 'bury', 'top', \"'s\", 'suggestion', 'set-up', 'may', 'design', 'show', 'two', 'people', 'sex', 'silla', 'know', 'explicit', 'pottery', 'professional', 'identification', 'type', 'social', 'identification', 'sense', 'oneness', 'individual', 'profession', 'e.g', 'law', 'medicine', 'degree', 'individual', 'define', 'profession', 'member', 'professional', 'identity', 'consist', 'individual', \"'s\", 'alignment', 'role', 'responsibility', 'value', 'ethical', 'standard', 'consistent', 'practice', 'accept', 'specific', 'profession', 'source', 'professional', 'identification', 'researcher', 'find', 'desire', 'quality', 'rather', 'profit', 'associate', 'professional', 'identification', 'organization', 'tend', 'concerned', 'efficiency', 'profitability', 'whereas', 'profession', 'care', 'mainly', 'provide', 'highest-quality', 'service', 'define', 'profession']\n"
          ]
        }
      ]
    },
    {
      "cell_type": "code",
      "source": [
        "mostcommon_small = nltk.probability.FreqDist(allwords_1).most_common(25)\n",
        "x, y = zip(*mostcommon_small)\n",
        "plt.figure(figsize=(10,6))\n",
        "plt.bar(x, y)\n",
        "plt.xlabel('Words', fontsize=10)\n",
        "plt.ylabel('Frequency of Words', fontsize=10)\n",
        "plt.yticks(fontsize=8)\n",
        "plt.xticks(rotation=60, fontsize=8)\n",
        "plt.title('Frequency of 25 Most Common Words for label=1', fontsize=12)\n",
        "plt.show()"
      ],
      "metadata": {
        "colab": {
          "base_uri": "https://localhost:8080/",
          "height": 433
        },
        "id": "5HnS4xJWhFWj",
        "outputId": "7b41108a-3bb0-4e6c-b28c-45b947272d1b"
      },
      "execution_count": 57,
      "outputs": [
        {
          "output_type": "display_data",
          "data": {
            "text/plain": [
              "<Figure size 720x432 with 1 Axes>"
            ],
            "image/png": "[encoded data removed]"
          },
          "metadata": {
            "needs_background": "light"
          }
        }
      ]
    },
    {
      "cell_type": "code",
      "source": [
        "words = ta[ta['label']==0]['lemmatized']\n",
        "allwords_0 = []\n",
        "for wordlist in words:\n",
        "    allwords_0 += wordlist\n",
        "print(allwords_0[:100])"
      ],
      "metadata": {
        "colab": {
          "base_uri": "https://localhost:8080/"
        },
        "id": "fMfMJiw0hUfM",
        "outputId": "1ae26d19-3eda-4f42-f21b-171c7a1232ab"
      },
      "execution_count": 58,
      "outputs": [
        {
          "output_type": "stream",
          "name": "stdout",
          "text": [
            "['myer', 'hold', '75', 'per', 'cent', 'designer', 'label', 'sale', 'wednesday', '22nd', 'department', 'store', 'understood', 'broker', 'deal', 'stock', 'international', 'designer', 'collection', 'time', 'european', 'american', 'retailer', 'move', 'say', 'attempt', 'revive', 'iconic', 'department', 'store', \"'s\", 'australian', 'market', 'bergen-belsen', 'concentration', 'camp', 'germany', 'liberate', 'british', 'canadian', 'troop', '1945', 'become', 'final', 'resting', 'place', '50,000', 'jew', 'gypsy', 'homosexual', 'nazi', 'opponent', 'disable', 'reverend', 'charles', 'martin', 'king', 'parson', 'one', 'handful', 'chaplains', 'helped', 'liberate', 'take', 'image', 'jonas', 'gutierrez', 'trigger', 'contract', 'extension', 'start', 'remain', 'seven', 'match', 'season', 'argentine', 'twice', 'beaten', 'testicular', 'cancer', '31-year-old', 'say', 'never', 'forgive', 'newcastle', 'handle', 'illness', 'one', 'game', 'closer', 'win', 'new', 'contract', 'st', 'james', 'park', 'five', 'american', 'monitor', 'three']\n"
          ]
        }
      ]
    },
    {
      "cell_type": "code",
      "source": [
        "mostcommon_small = nltk.probability.FreqDist(allwords_0).most_common(25)\n",
        "x, y = zip(*mostcommon_small)\n",
        "plt.figure(figsize=(10,6))\n",
        "plt.bar(x, y)\n",
        "plt.xlabel('Words', fontsize=10)\n",
        "plt.ylabel('Frequency of Words', fontsize=10)\n",
        "plt.yticks(fontsize=8)\n",
        "plt.xticks(rotation=60, fontsize=8)\n",
        "plt.title('Frequency of 25 Most Common Words for label=0', fontsize=12)\n",
        "plt.show()"
      ],
      "metadata": {
        "colab": {
          "base_uri": "https://localhost:8080/",
          "height": 433
        },
        "id": "5BskSHAChdKb",
        "outputId": "ac9b5b7e-a164-4661-e1b0-548e6c4546a2"
      },
      "execution_count": 59,
      "outputs": [
        {
          "output_type": "display_data",
          "data": {
            "text/plain": [
              "<Figure size 720x432 with 1 Axes>"
            ],
            "image/png": "[encoded data removed]"
          },
          "metadata": {
            "needs_background": "light"
          }
        }
      ]
    },
    {
      "cell_type": "code",
      "source": [
        "counter_1 = Counter(allwords_1)\n",
        "counter_0 = Counter(allwords_0)\n",
        "\n",
        "diff_dict = dict()\n",
        "for word in set(allwords_1 + allwords_0):\n",
        "    diff = (counter_1[word] - counter_0[word])\n",
        "    diff_dict[word] = diff\n",
        "\n",
        "sorted_diff = sorted(diff_dict.items(), key=lambda x: x[1], reverse=True)\n",
        "top = sorted_diff[:25]"
      ],
      "metadata": {
        "id": "JIQ2H8kqjuRS"
      },
      "execution_count": 67,
      "outputs": []
    },
    {
      "cell_type": "code",
      "source": [
        "x, y = zip(*top)\n",
        "plt.figure(figsize=(10,6))\n",
        "plt.bar(x, y)\n",
        "plt.xlabel('Words', fontsize=10)\n",
        "plt.ylabel('Frequency Difference of Words', fontsize=10)\n",
        "plt.yticks(fontsize=8)\n",
        "plt.xticks(rotation=60, fontsize=8)\n",
        "plt.title('Frequency Difference of 25 Biggest Difference Words between label=1 and label=0', fontsize=12)\n",
        "plt.show()"
      ],
      "metadata": {
        "colab": {
          "base_uri": "https://localhost:8080/",
          "height": 429
        },
        "id": "0RP-Qwozku7y",
        "outputId": "423d7b67-39eb-49b5-9a17-ea88f6971147"
      },
      "execution_count": 68,
      "outputs": [
        {
          "output_type": "display_data",
          "data": {
            "text/plain": [
              "<Figure size 720x432 with 1 Axes>"
            ],
            "image/png": "[encoded data removed]"
          },
          "metadata": {
            "needs_background": "light"
          }
        }
      ]
    }
  ]
}